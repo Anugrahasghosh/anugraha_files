{
 "cells": [
  {
   "cell_type": "markdown",
   "id": "12b3c807",
   "metadata": {},
   "source": [
    "# Assignment on Classification\n",
    "#### Do the following in the iris dataset\n",
    "#### 1. Read the dataset to python environment\n",
    "#### 2. Do the necessary pre-processing steps\n",
    "#### 3. Find out which classification model gives the best result (try all the classification algorithms discussed in the session)"
   ]
  },
  {
   "cell_type": "code",
   "execution_count": null,
   "id": "770ba7e9",
   "metadata": {},
   "outputs": [],
   "source": []
  },
  {
   "cell_type": "markdown",
   "id": "42a0039e",
   "metadata": {},
   "source": [
    "### Importing the required libraries"
   ]
  },
  {
   "cell_type": "code",
   "execution_count": 1,
   "id": "2de961e1",
   "metadata": {},
   "outputs": [],
   "source": [
    "import numpy as np\n",
    "import pandas as pd\n",
    "import matplotlib.pyplot as plt\n",
    "import seaborn as sns"
   ]
  },
  {
   "cell_type": "markdown",
   "id": "ef8a5c51",
   "metadata": {},
   "source": [
    "## 1. Read the dataset to python environment"
   ]
  },
  {
   "cell_type": "code",
   "execution_count": 6,
   "id": "1a71cbd1",
   "metadata": {},
   "outputs": [
    {
     "data": {
      "text/html": [
       "<div>\n",
       "<style scoped>\n",
       "    .dataframe tbody tr th:only-of-type {\n",
       "        vertical-align: middle;\n",
       "    }\n",
       "\n",
       "    .dataframe tbody tr th {\n",
       "        vertical-align: top;\n",
       "    }\n",
       "\n",
       "    .dataframe thead th {\n",
       "        text-align: right;\n",
       "    }\n",
       "</style>\n",
       "<table border=\"1\" class=\"dataframe\">\n",
       "  <thead>\n",
       "    <tr style=\"text-align: right;\">\n",
       "      <th></th>\n",
       "      <th>SL</th>\n",
       "      <th>SW</th>\n",
       "      <th>PL</th>\n",
       "      <th>PW</th>\n",
       "      <th>Classification</th>\n",
       "    </tr>\n",
       "  </thead>\n",
       "  <tbody>\n",
       "    <tr>\n",
       "      <th>0</th>\n",
       "      <td>5.1</td>\n",
       "      <td>3.5</td>\n",
       "      <td>1.4</td>\n",
       "      <td>0.2</td>\n",
       "      <td>Iris-setosa</td>\n",
       "    </tr>\n",
       "    <tr>\n",
       "      <th>1</th>\n",
       "      <td>4.9</td>\n",
       "      <td>3.0</td>\n",
       "      <td>1.4</td>\n",
       "      <td>0.2</td>\n",
       "      <td>Iris-setosa</td>\n",
       "    </tr>\n",
       "    <tr>\n",
       "      <th>2</th>\n",
       "      <td>NaN</td>\n",
       "      <td>3.2</td>\n",
       "      <td>1.3</td>\n",
       "      <td>0.2</td>\n",
       "      <td>Iris-setosa</td>\n",
       "    </tr>\n",
       "    <tr>\n",
       "      <th>3</th>\n",
       "      <td>4.6</td>\n",
       "      <td>3.1</td>\n",
       "      <td>1.5</td>\n",
       "      <td>0.2</td>\n",
       "      <td>Iris-setosa</td>\n",
       "    </tr>\n",
       "    <tr>\n",
       "      <th>4</th>\n",
       "      <td>5.0</td>\n",
       "      <td>3.6</td>\n",
       "      <td>1.4</td>\n",
       "      <td>0.2</td>\n",
       "      <td>Iris-setosa</td>\n",
       "    </tr>\n",
       "    <tr>\n",
       "      <th>...</th>\n",
       "      <td>...</td>\n",
       "      <td>...</td>\n",
       "      <td>...</td>\n",
       "      <td>...</td>\n",
       "      <td>...</td>\n",
       "    </tr>\n",
       "    <tr>\n",
       "      <th>145</th>\n",
       "      <td>6.7</td>\n",
       "      <td>3.0</td>\n",
       "      <td>5.2</td>\n",
       "      <td>2.3</td>\n",
       "      <td>Iris-virginica</td>\n",
       "    </tr>\n",
       "    <tr>\n",
       "      <th>146</th>\n",
       "      <td>6.3</td>\n",
       "      <td>2.5</td>\n",
       "      <td>5.0</td>\n",
       "      <td>1.9</td>\n",
       "      <td>Iris-virginica</td>\n",
       "    </tr>\n",
       "    <tr>\n",
       "      <th>147</th>\n",
       "      <td>6.5</td>\n",
       "      <td>3.0</td>\n",
       "      <td>NaN</td>\n",
       "      <td>2.0</td>\n",
       "      <td>Iris-virginica</td>\n",
       "    </tr>\n",
       "    <tr>\n",
       "      <th>148</th>\n",
       "      <td>6.2</td>\n",
       "      <td>3.4</td>\n",
       "      <td>5.4</td>\n",
       "      <td>2.3</td>\n",
       "      <td>Iris-virginica</td>\n",
       "    </tr>\n",
       "    <tr>\n",
       "      <th>149</th>\n",
       "      <td>5.9</td>\n",
       "      <td>3.0</td>\n",
       "      <td>5.1</td>\n",
       "      <td>1.8</td>\n",
       "      <td>Iris-virginica</td>\n",
       "    </tr>\n",
       "  </tbody>\n",
       "</table>\n",
       "<p>150 rows × 5 columns</p>\n",
       "</div>"
      ],
      "text/plain": [
       "      SL   SW   PL   PW  Classification\n",
       "0    5.1  3.5  1.4  0.2     Iris-setosa\n",
       "1    4.9  3.0  1.4  0.2     Iris-setosa\n",
       "2    NaN  3.2  1.3  0.2     Iris-setosa\n",
       "3    4.6  3.1  1.5  0.2     Iris-setosa\n",
       "4    5.0  3.6  1.4  0.2     Iris-setosa\n",
       "..   ...  ...  ...  ...             ...\n",
       "145  6.7  3.0  5.2  2.3  Iris-virginica\n",
       "146  6.3  2.5  5.0  1.9  Iris-virginica\n",
       "147  6.5  3.0  NaN  2.0  Iris-virginica\n",
       "148  6.2  3.4  5.4  2.3  Iris-virginica\n",
       "149  5.9  3.0  5.1  1.8  Iris-virginica\n",
       "\n",
       "[150 rows x 5 columns]"
      ]
     },
     "execution_count": 6,
     "metadata": {},
     "output_type": "execute_result"
    }
   ],
   "source": [
    "data =pd.read_excel(\"iris (1).xls\") #loading the dataset\n",
    "data"
   ]
  },
  {
   "cell_type": "code",
   "execution_count": 7,
   "id": "08d9e92b",
   "metadata": {},
   "outputs": [
    {
     "data": {
      "text/plain": [
       "(150, 5)"
      ]
     },
     "execution_count": 7,
     "metadata": {},
     "output_type": "execute_result"
    }
   ],
   "source": [
    "data.shape  #dimension of the dataset50 rows & 5 columns"
   ]
  },
  {
   "cell_type": "code",
   "execution_count": 8,
   "id": "06f1d19a",
   "metadata": {},
   "outputs": [
    {
     "name": "stdout",
     "output_type": "stream",
     "text": [
      "<class 'pandas.core.frame.DataFrame'>\n",
      "RangeIndex: 150 entries, 0 to 149\n",
      "Data columns (total 5 columns):\n",
      " #   Column          Non-Null Count  Dtype  \n",
      "---  ------          --------------  -----  \n",
      " 0   SL              143 non-null    float64\n",
      " 1   SW              144 non-null    float64\n",
      " 2   PL              144 non-null    float64\n",
      " 3   PW              150 non-null    float64\n",
      " 4   Classification  150 non-null    object \n",
      "dtypes: float64(4), object(1)\n",
      "memory usage: 6.0+ KB\n"
     ]
    }
   ],
   "source": [
    "data.info()  #basic information about the dataset"
   ]
  },
  {
   "cell_type": "code",
   "execution_count": 10,
   "id": "c96ec238",
   "metadata": {},
   "outputs": [
    {
     "data": {
      "text/html": [
       "<div>\n",
       "<style scoped>\n",
       "    .dataframe tbody tr th:only-of-type {\n",
       "        vertical-align: middle;\n",
       "    }\n",
       "\n",
       "    .dataframe tbody tr th {\n",
       "        vertical-align: top;\n",
       "    }\n",
       "\n",
       "    .dataframe thead th {\n",
       "        text-align: right;\n",
       "    }\n",
       "</style>\n",
       "<table border=\"1\" class=\"dataframe\">\n",
       "  <thead>\n",
       "    <tr style=\"text-align: right;\">\n",
       "      <th></th>\n",
       "      <th>SL</th>\n",
       "      <th>SW</th>\n",
       "      <th>PL</th>\n",
       "      <th>PW</th>\n",
       "    </tr>\n",
       "  </thead>\n",
       "  <tbody>\n",
       "    <tr>\n",
       "      <th>count</th>\n",
       "      <td>143.000000</td>\n",
       "      <td>144.000000</td>\n",
       "      <td>144.000000</td>\n",
       "      <td>150.000000</td>\n",
       "    </tr>\n",
       "    <tr>\n",
       "      <th>mean</th>\n",
       "      <td>5.855944</td>\n",
       "      <td>3.049306</td>\n",
       "      <td>3.756250</td>\n",
       "      <td>1.198667</td>\n",
       "    </tr>\n",
       "    <tr>\n",
       "      <th>std</th>\n",
       "      <td>0.828168</td>\n",
       "      <td>0.430644</td>\n",
       "      <td>1.761306</td>\n",
       "      <td>0.763161</td>\n",
       "    </tr>\n",
       "    <tr>\n",
       "      <th>min</th>\n",
       "      <td>4.300000</td>\n",
       "      <td>2.000000</td>\n",
       "      <td>1.000000</td>\n",
       "      <td>0.100000</td>\n",
       "    </tr>\n",
       "    <tr>\n",
       "      <th>25%</th>\n",
       "      <td>5.100000</td>\n",
       "      <td>2.800000</td>\n",
       "      <td>1.600000</td>\n",
       "      <td>0.300000</td>\n",
       "    </tr>\n",
       "    <tr>\n",
       "      <th>50%</th>\n",
       "      <td>5.800000</td>\n",
       "      <td>3.000000</td>\n",
       "      <td>4.350000</td>\n",
       "      <td>1.300000</td>\n",
       "    </tr>\n",
       "    <tr>\n",
       "      <th>75%</th>\n",
       "      <td>6.400000</td>\n",
       "      <td>3.300000</td>\n",
       "      <td>5.100000</td>\n",
       "      <td>1.800000</td>\n",
       "    </tr>\n",
       "    <tr>\n",
       "      <th>max</th>\n",
       "      <td>7.900000</td>\n",
       "      <td>4.400000</td>\n",
       "      <td>6.900000</td>\n",
       "      <td>2.500000</td>\n",
       "    </tr>\n",
       "  </tbody>\n",
       "</table>\n",
       "</div>"
      ],
      "text/plain": [
       "               SL          SW          PL          PW\n",
       "count  143.000000  144.000000  144.000000  150.000000\n",
       "mean     5.855944    3.049306    3.756250    1.198667\n",
       "std      0.828168    0.430644    1.761306    0.763161\n",
       "min      4.300000    2.000000    1.000000    0.100000\n",
       "25%      5.100000    2.800000    1.600000    0.300000\n",
       "50%      5.800000    3.000000    4.350000    1.300000\n",
       "75%      6.400000    3.300000    5.100000    1.800000\n",
       "max      7.900000    4.400000    6.900000    2.500000"
      ]
     },
     "execution_count": 10,
     "metadata": {},
     "output_type": "execute_result"
    }
   ],
   "source": [
    "data.describe()  #statistical information about the dataset"
   ]
  },
  {
   "cell_type": "code",
   "execution_count": 9,
   "id": "9de4903f",
   "metadata": {},
   "outputs": [
    {
     "data": {
      "text/plain": [
       "Index(['SL', 'SW', 'PL', 'PW', 'Classification'], dtype='object')"
      ]
     },
     "execution_count": 9,
     "metadata": {},
     "output_type": "execute_result"
    }
   ],
   "source": [
    "data.columns"
   ]
  },
  {
   "cell_type": "markdown",
   "id": "a0b66c17",
   "metadata": {},
   "source": [
    "## 2. Do the necessary pre-processing steps"
   ]
  },
  {
   "cell_type": "markdown",
   "id": "c72a0d24",
   "metadata": {},
   "source": [
    "##### Checking for missing values "
   ]
  },
  {
   "cell_type": "code",
   "execution_count": 12,
   "id": "2d6584a4",
   "metadata": {},
   "outputs": [
    {
     "data": {
      "text/plain": [
       "SL                7\n",
       "SW                6\n",
       "PL                6\n",
       "PW                0\n",
       "Classification    0\n",
       "dtype: int64"
      ]
     },
     "execution_count": 12,
     "metadata": {},
     "output_type": "execute_result"
    }
   ],
   "source": [
    "data.isnull().sum()"
   ]
  },
  {
   "cell_type": "code",
   "execution_count": 13,
   "id": "e64118e3",
   "metadata": {},
   "outputs": [
    {
     "data": {
      "text/plain": [
       "Iris-setosa        50\n",
       "Iris-versicolor    50\n",
       "Iris-virginica     50\n",
       "Name: Classification, dtype: int64"
      ]
     },
     "execution_count": 13,
     "metadata": {},
     "output_type": "execute_result"
    }
   ],
   "source": [
    "data['Classification'].value_counts() # checking number of values in each category of classification column."
   ]
  },
  {
   "cell_type": "markdown",
   "id": "56c63978",
   "metadata": {},
   "source": [
    "#### Handling the missing values"
   ]
  },
  {
   "cell_type": "code",
   "execution_count": 14,
   "id": "4691abb3",
   "metadata": {},
   "outputs": [],
   "source": [
    "# Checking the distribution of SL"
   ]
  },
  {
   "cell_type": "code",
   "execution_count": 21,
   "id": "428c0edc",
   "metadata": {},
   "outputs": [
    {
     "name": "stderr",
     "output_type": "stream",
     "text": [
      "C:\\Users\\anugr\\anaconda3\\lib\\site-packages\\seaborn\\distributions.py:2619: FutureWarning: `distplot` is a deprecated function and will be removed in a future version. Please adapt your code to use either `displot` (a figure-level function with similar flexibility) or `histplot` (an axes-level function for histograms).\n",
      "  warnings.warn(msg, FutureWarning)\n"
     ]
    },
    {
     "name": "stdout",
     "output_type": "stream",
     "text": [
      "The skewness is : 0.3068227108046868\n"
     ]
    },
    {
     "data": {
      "image/png": "[encoded data removed]",
      "text/plain": [
       "<Figure size 432x288 with 1 Axes>"
      ]
     },
     "metadata": {
      "needs_background": "light"
     },
     "output_type": "display_data"
    }
   ],
   "source": [
    "sns.distplot(data['SL'])\n",
    "plt.grid()\n",
    "print(\"The skewness is :\", data['SL'].skew())\n",
    "\n",
    "    "
   ]
  },
  {
   "cell_type": "code",
   "execution_count": 22,
   "id": "7d5c7fcf",
   "metadata": {},
   "outputs": [],
   "source": [
    "#Filling the missing value with the median\n",
    "data['SL'] =data['SL'].fillna(data['SL'].median())"
   ]
  },
  {
   "cell_type": "code",
   "execution_count": 23,
   "id": "d41eb668",
   "metadata": {},
   "outputs": [
    {
     "name": "stderr",
     "output_type": "stream",
     "text": [
      "C:\\Users\\anugr\\anaconda3\\lib\\site-packages\\seaborn\\distributions.py:2619: FutureWarning: `distplot` is a deprecated function and will be removed in a future version. Please adapt your code to use either `displot` (a figure-level function with similar flexibility) or `histplot` (an axes-level function for histograms).\n",
      "  warnings.warn(msg, FutureWarning)\n"
     ]
    },
    {
     "name": "stdout",
     "output_type": "stream",
     "text": [
      "The skewness is :  0.37781843718771746\n"
     ]
    },
    {
     "data": {
      "image/png": "[encoded data removed]",
      "text/plain": [
       "<Figure size 432x288 with 1 Axes>"
      ]
     },
     "metadata": {
      "needs_background": "light"
     },
     "output_type": "display_data"
    }
   ],
   "source": [
    "# Checking the distribution of SW\n",
    "sns.distplot(data['SW'])\n",
    "print('The skewness is : ', data.SW.skew())"
   ]
  },
  {
   "cell_type": "code",
   "execution_count": 24,
   "id": "39862a84",
   "metadata": {},
   "outputs": [],
   "source": [
    "#Filling missing values with the median.\n",
    "data['SW'] =data['SW'].fillna(data['SW'].median())"
   ]
  },
  {
   "cell_type": "code",
   "execution_count": 31,
   "id": "cf01f76c",
   "metadata": {},
   "outputs": [
    {
     "name": "stdout",
     "output_type": "stream",
     "text": [
      "The skewness is :  -0.3125678285137702\n"
     ]
    },
    {
     "name": "stderr",
     "output_type": "stream",
     "text": [
      "C:\\Users\\anugr\\anaconda3\\lib\\site-packages\\seaborn\\distributions.py:2619: FutureWarning: `distplot` is a deprecated function and will be removed in a future version. Please adapt your code to use either `displot` (a figure-level function with similar flexibility) or `histplot` (an axes-level function for histograms).\n",
      "  warnings.warn(msg, FutureWarning)\n"
     ]
    },
    {
     "data": {
      "image/png": "[encoded data removed]",
      "text/plain": [
       "<Figure size 432x288 with 1 Axes>"
      ]
     },
     "metadata": {
      "needs_background": "light"
     },
     "output_type": "display_data"
    }
   ],
   "source": [
    "# Checking the distribution of PL\n",
    "sns.distplot(data['PL'])\n",
    "print('The skewness is : ', data['PL'].skew())"
   ]
  },
  {
   "cell_type": "code",
   "execution_count": 29,
   "id": "19cf2be3",
   "metadata": {},
   "outputs": [],
   "source": [
    "#Filling missing values with the median.\n",
    "data['PL'] =data['PL'].fillna(data['PL'].median())"
   ]
  },
  {
   "cell_type": "code",
   "execution_count": 30,
   "id": "99afd15a",
   "metadata": {},
   "outputs": [
    {
     "data": {
      "text/plain": [
       "SL                0\n",
       "SW                0\n",
       "PL                0\n",
       "PW                0\n",
       "Classification    0\n",
       "dtype: int64"
      ]
     },
     "execution_count": 30,
     "metadata": {},
     "output_type": "execute_result"
    }
   ],
   "source": [
    "data.isna().sum()"
   ]
  },
  {
   "cell_type": "code",
   "execution_count": null,
   "id": "10017524",
   "metadata": {},
   "outputs": [],
   "source": [
    "# Thus , we have filled all the missing values in the dataset."
   ]
  },
  {
   "cell_type": "markdown",
   "id": "3c108406",
   "metadata": {},
   "source": [
    "#### Checking for outliers"
   ]
  },
  {
   "cell_type": "code",
   "execution_count": 33,
   "id": "b73debf3",
   "metadata": {},
   "outputs": [
    {
     "data": {
      "text/plain": [
       "<AxesSubplot:xlabel='Classification', ylabel='PW'>"
      ]
     },
     "execution_count": 33,
     "metadata": {},
     "output_type": "execute_result"
    },
    {
     "data": {
      "image/png": "[encoded data removed]",
      "text/plain": [
       "<Figure size 1152x648 with 4 Axes>"
      ]
     },
     "metadata": {
      "needs_background": "light"
     },
     "output_type": "display_data"
    }
   ],
   "source": [
    "fig , axes =plt.subplots(2,2, figsize=(16,9))\n",
    "sns.boxplot( x='Classification' , y='SL' , data=data ,ax = axes[0,0])\n",
    "sns.boxplot( x='Classification', y ='SW' , data=data ,ax = axes[0,1])\n",
    "sns.boxplot( x='Classification', y ='PL' , data=data ,ax = axes[1,0])\n",
    "sns.boxplot( x='Classification', y ='PW' , data=data ,ax = axes[1,1])\n"
   ]
  },
  {
   "cell_type": "code",
   "execution_count": 34,
   "id": "79e94ec5",
   "metadata": {},
   "outputs": [
    {
     "data": {
      "text/html": [
       "<div>\n",
       "<style scoped>\n",
       "    .dataframe tbody tr th:only-of-type {\n",
       "        vertical-align: middle;\n",
       "    }\n",
       "\n",
       "    .dataframe tbody tr th {\n",
       "        vertical-align: top;\n",
       "    }\n",
       "\n",
       "    .dataframe thead th {\n",
       "        text-align: right;\n",
       "    }\n",
       "</style>\n",
       "<table border=\"1\" class=\"dataframe\">\n",
       "  <thead>\n",
       "    <tr style=\"text-align: right;\">\n",
       "      <th></th>\n",
       "      <th>SL</th>\n",
       "      <th>SW</th>\n",
       "      <th>PL</th>\n",
       "      <th>PW</th>\n",
       "    </tr>\n",
       "  </thead>\n",
       "  <tbody>\n",
       "    <tr>\n",
       "      <th>count</th>\n",
       "      <td>150.000000</td>\n",
       "      <td>150.000000</td>\n",
       "      <td>150.000000</td>\n",
       "      <td>150.000000</td>\n",
       "    </tr>\n",
       "    <tr>\n",
       "      <th>mean</th>\n",
       "      <td>5.853333</td>\n",
       "      <td>3.047333</td>\n",
       "      <td>3.780000</td>\n",
       "      <td>1.198667</td>\n",
       "    </tr>\n",
       "    <tr>\n",
       "      <th>std</th>\n",
       "      <td>0.808567</td>\n",
       "      <td>0.421995</td>\n",
       "      <td>1.729424</td>\n",
       "      <td>0.763161</td>\n",
       "    </tr>\n",
       "    <tr>\n",
       "      <th>min</th>\n",
       "      <td>4.300000</td>\n",
       "      <td>2.000000</td>\n",
       "      <td>1.000000</td>\n",
       "      <td>0.100000</td>\n",
       "    </tr>\n",
       "    <tr>\n",
       "      <th>25%</th>\n",
       "      <td>5.200000</td>\n",
       "      <td>2.800000</td>\n",
       "      <td>1.600000</td>\n",
       "      <td>0.300000</td>\n",
       "    </tr>\n",
       "    <tr>\n",
       "      <th>50%</th>\n",
       "      <td>5.800000</td>\n",
       "      <td>3.000000</td>\n",
       "      <td>4.350000</td>\n",
       "      <td>1.300000</td>\n",
       "    </tr>\n",
       "    <tr>\n",
       "      <th>75%</th>\n",
       "      <td>6.400000</td>\n",
       "      <td>3.275000</td>\n",
       "      <td>5.100000</td>\n",
       "      <td>1.800000</td>\n",
       "    </tr>\n",
       "    <tr>\n",
       "      <th>max</th>\n",
       "      <td>7.900000</td>\n",
       "      <td>4.400000</td>\n",
       "      <td>6.900000</td>\n",
       "      <td>2.500000</td>\n",
       "    </tr>\n",
       "  </tbody>\n",
       "</table>\n",
       "</div>"
      ],
      "text/plain": [
       "               SL          SW          PL          PW\n",
       "count  150.000000  150.000000  150.000000  150.000000\n",
       "mean     5.853333    3.047333    3.780000    1.198667\n",
       "std      0.808567    0.421995    1.729424    0.763161\n",
       "min      4.300000    2.000000    1.000000    0.100000\n",
       "25%      5.200000    2.800000    1.600000    0.300000\n",
       "50%      5.800000    3.000000    4.350000    1.300000\n",
       "75%      6.400000    3.275000    5.100000    1.800000\n",
       "max      7.900000    4.400000    6.900000    2.500000"
      ]
     },
     "execution_count": 34,
     "metadata": {},
     "output_type": "execute_result"
    }
   ],
   "source": [
    "data.describe()"
   ]
  },
  {
   "cell_type": "markdown",
   "id": "ae1f4c98",
   "metadata": {},
   "source": [
    "#### We can leave the outliers as such since they are in acceptable range and their removal in such a small dataset may result imbalance"
   ]
  },
  {
   "cell_type": "markdown",
   "id": "4cf8a9cd",
   "metadata": {},
   "source": [
    "## 3. Find out which classification model gives the best result"
   ]
  },
  {
   "cell_type": "code",
   "execution_count": 42,
   "id": "596464ce",
   "metadata": {},
   "outputs": [],
   "source": [
    "# splitting the data into features and target\n",
    "y= data['Classification']\n",
    "x= data.drop('Classification', axis=1)"
   ]
  },
  {
   "cell_type": "code",
   "execution_count": 44,
   "id": "c41acc2a",
   "metadata": {},
   "outputs": [
    {
     "data": {
      "text/plain": [
       "<AxesSubplot:>"
      ]
     },
     "execution_count": 44,
     "metadata": {},
     "output_type": "execute_result"
    },
    {
     "data": {
      "image/png": "[encoded data removed]",
      "text/plain": [
       "<Figure size 432x288 with 2 Axes>"
      ]
     },
     "metadata": {
      "needs_background": "light"
     },
     "output_type": "display_data"
    }
   ],
   "source": [
    "# Checking correlation \n",
    "sns.heatmap(data.corr() , annot =True)"
   ]
  },
  {
   "cell_type": "code",
   "execution_count": 45,
   "id": "4152c415",
   "metadata": {},
   "outputs": [],
   "source": [
    "#splitting the dataset into training and testing data \n",
    "\n",
    "from sklearn.model_selection import train_test_split #importing the required library for it.\n",
    "xtrain, xtest, ytrain ,ytest = train_test_split(x, y , test_size =0.25, random_state =42)"
   ]
  },
  {
   "cell_type": "code",
   "execution_count": 47,
   "id": "43b79a2a",
   "metadata": {},
   "outputs": [
    {
     "data": {
      "text/plain": [
       "(112, 4)"
      ]
     },
     "execution_count": 47,
     "metadata": {},
     "output_type": "execute_result"
    }
   ],
   "source": [
    "xtrain.shape"
   ]
  },
  {
   "cell_type": "code",
   "execution_count": 48,
   "id": "1e54cf5f",
   "metadata": {},
   "outputs": [
    {
     "data": {
      "text/plain": [
       "(38, 4)"
      ]
     },
     "execution_count": 48,
     "metadata": {},
     "output_type": "execute_result"
    }
   ],
   "source": [
    "xtest.shape"
   ]
  },
  {
   "cell_type": "markdown",
   "id": "97c08fbc",
   "metadata": {},
   "source": [
    "### (1) Logistic Regression Model"
   ]
  },
  {
   "cell_type": "code",
   "execution_count": 102,
   "id": "79d4fd3e",
   "metadata": {},
   "outputs": [],
   "source": [
    "from sklearn.linear_model import LogisticRegression\n",
    "from sklearn.metrics import accuracy_score, precision_score, confusion_matrix "
   ]
  },
  {
   "cell_type": "code",
   "execution_count": 56,
   "id": "93b76369",
   "metadata": {
    "scrolled": true
   },
   "outputs": [
    {
     "name": "stderr",
     "output_type": "stream",
     "text": [
      "C:\\Users\\anugr\\anaconda3\\lib\\site-packages\\sklearn\\linear_model\\_logistic.py:814: ConvergenceWarning: lbfgs failed to converge (status=1):\n",
      "STOP: TOTAL NO. of ITERATIONS REACHED LIMIT.\n",
      "\n",
      "Increase the number of iterations (max_iter) or scale the data as shown in:\n",
      "    https://scikit-learn.org/stable/modules/preprocessing.html\n",
      "Please also refer to the documentation for alternative solver options:\n",
      "    https://scikit-learn.org/stable/modules/linear_model.html#logistic-regression\n",
      "  n_iter_i = _check_optimize_result(\n"
     ]
    }
   ],
   "source": [
    "lr = LogisticRegression()  # creating an instance\n",
    "model_lr = lr.fit(xtrain, ytrain) #fitting data into the model\n",
    "ypred_lr =model_lr.predict(xtest) #prdicting values for test data"
   ]
  },
  {
   "cell_type": "code",
   "execution_count": 62,
   "id": "d68d6025",
   "metadata": {},
   "outputs": [
    {
     "name": "stdout",
     "output_type": "stream",
     "text": [
      "[[14  1  0]\n",
      " [ 0 11  0]\n",
      " [ 0  0 12]]\n",
      "Accuracy score of LR model is : 0.9736842105263158\n"
     ]
    }
   ],
   "source": [
    "#model Evaluation\n",
    "print(confusion_matrix(ytest, ypred_lr))\n",
    "print(\"Accuracy score of LR model is :\",accuracy_score(ytest, ypred_lr))"
   ]
  },
  {
   "cell_type": "markdown",
   "id": "7e0d39a4",
   "metadata": {},
   "source": [
    "### (2). KNN Model"
   ]
  },
  {
   "cell_type": "code",
   "execution_count": 63,
   "id": "4bbcde97",
   "metadata": {},
   "outputs": [],
   "source": [
    "from sklearn.neighbors import KNeighborsClassifier"
   ]
  },
  {
   "cell_type": "code",
   "execution_count": 65,
   "id": "03f136f1",
   "metadata": {},
   "outputs": [],
   "source": [
    "metric_k =[] # creating an empty list to store the accuracy\n",
    "neighbors = np.arange(3,15) #\n",
    "\n",
    "for k in neighbors: #for each k, we are creating the model and finding the accuracy\n",
    "    knn = KNeighborsClassifier(n_neighbors =k)  #creating an instance\n",
    "    model_knn = knn.fit(xtrain,ytrain)  #fitting the data into the model\n",
    "    ypred_knn = model_knn.predict(xtest)  #predicting the values of xtest\n",
    "    acc = accuracy_score(ytest, ypred_knn)  # accuracy of the model.\n",
    "    metric_k.append(acc) "
   ]
  },
  {
   "cell_type": "code",
   "execution_count": 66,
   "id": "f1827e1e",
   "metadata": {},
   "outputs": [
    {
     "data": {
      "image/png": "[encoded data removed]",
      "text/plain": [
       "<Figure size 432x288 with 1 Axes>"
      ]
     },
     "metadata": {
      "needs_background": "light"
     },
     "output_type": "display_data"
    }
   ],
   "source": [
    "#we plot  the graph and then checking for k which gives maximum accuracy\n",
    "plt.plot(neighbors, metric_k, 'o-')\n",
    "plt.xlabel('k values')\n",
    "plt.ylabel('Accuracy')\n",
    "plt.grid()"
   ]
  },
  {
   "cell_type": "code",
   "execution_count": 67,
   "id": "6fa4d33c",
   "metadata": {},
   "outputs": [],
   "source": [
    "#creating the model using k = 4\n",
    "knn =KNeighborsClassifier(n_neighbors =4)\n",
    "model2 = knn.fit(xtrain,ytrain)\n",
    "ypred_knn = model2.predict(xtest)"
   ]
  },
  {
   "cell_type": "code",
   "execution_count": 74,
   "id": "68e35d28",
   "metadata": {},
   "outputs": [
    {
     "name": "stdout",
     "output_type": "stream",
     "text": [
      "[[14  1  0]\n",
      " [ 0 11  0]\n",
      " [ 0  0 12]]\n",
      "Accuracy score of KNN model is : 0.9736842105263158\n"
     ]
    }
   ],
   "source": [
    "#Evaluating the model\n",
    "print(confusion_matrix(ytest,ypred_knn))\n",
    "print(\"Accuracy score of KNN model is :\",accuracy_score(ytest,ypred_knn))\n"
   ]
  },
  {
   "cell_type": "markdown",
   "id": "b87adff1",
   "metadata": {},
   "source": [
    "### (3). SVM Model"
   ]
  },
  {
   "cell_type": "code",
   "execution_count": 75,
   "id": "a65388d9",
   "metadata": {},
   "outputs": [],
   "source": [
    "from sklearn.svm import SVC"
   ]
  },
  {
   "cell_type": "markdown",
   "id": "987f836f",
   "metadata": {},
   "source": [
    "#### RBF SVM Model"
   ]
  },
  {
   "cell_type": "code",
   "execution_count": 73,
   "id": "358b1159",
   "metadata": {},
   "outputs": [],
   "source": [
    "svm_clf =SVC(kernel ='rbf') # creating instance\n",
    "model3 = svm_clf.fit(xtrain,ytrain) #fitting data into the model\n",
    "ypred = model3.predict(xtest) # predicting values for xtest"
   ]
  },
  {
   "cell_type": "code",
   "execution_count": 77,
   "id": "c0eef362",
   "metadata": {},
   "outputs": [
    {
     "name": "stdout",
     "output_type": "stream",
     "text": [
      "[[14  1  0]\n",
      " [ 0 11  0]\n",
      " [ 0  0 12]]\n",
      "Accuracy score of RBF SVM model is : 0.9736842105263158\n"
     ]
    }
   ],
   "source": [
    "# Evaluating the model\n",
    "print(confusion_matrix(ytest, ypred))\n",
    "print(\"Accuracy score of RBF SVM model is :\",accuracy_score(ytest, ypred))"
   ]
  },
  {
   "cell_type": "markdown",
   "id": "303b4579",
   "metadata": {},
   "source": [
    "#### Linear SVM Model"
   ]
  },
  {
   "cell_type": "code",
   "execution_count": 82,
   "id": "6e4ddf72",
   "metadata": {},
   "outputs": [],
   "source": [
    "svm_linear =SVC(kernel ='linear') # creating instance\n",
    "model4 = svm_linear.fit(xtrain,ytrain)  #fitting data into the model\n",
    "ypred = model4.predict(xtest) # predicting values for xtest"
   ]
  },
  {
   "cell_type": "code",
   "execution_count": 83,
   "id": "a8a13807",
   "metadata": {},
   "outputs": [
    {
     "name": "stdout",
     "output_type": "stream",
     "text": [
      "[[15  0  0]\n",
      " [ 0 11  0]\n",
      " [ 0  0 12]]\n",
      "Accuracy score of Linear SVM model is : 1.0\n"
     ]
    }
   ],
   "source": [
    "#Evaluating the model\n",
    "print(confusion_matrix(ytest, ypred))\n",
    "print(\"Accuracy score of Linear SVM model is :\",accuracy_score(ytest, ypred))"
   ]
  },
  {
   "cell_type": "markdown",
   "id": "4468b9c4",
   "metadata": {},
   "source": [
    "#### Polynomial SVM Model\n"
   ]
  },
  {
   "cell_type": "code",
   "execution_count": 91,
   "id": "d0a687d8",
   "metadata": {},
   "outputs": [],
   "source": [
    "svm_poly = SVC(kernel= \"poly\", degree =3)  #creating instance\n",
    "model5 =svm_poly.fit(xtrain,ytrain)  #fitting data into the model.\n",
    "ypred_poly = model5.predict(xtest) #predicting the values for xtest"
   ]
  },
  {
   "cell_type": "code",
   "execution_count": 92,
   "id": "6f8e9dc4",
   "metadata": {},
   "outputs": [
    {
     "name": "stdout",
     "output_type": "stream",
     "text": [
      "[[15  0  0]\n",
      " [ 0 10  1]\n",
      " [ 0  0 12]]\n",
      "Accuracy score of polynomial SVM model is : 0.9736842105263158\n"
     ]
    }
   ],
   "source": [
    "# Evaluating the model\n",
    "print(confusion_matrix(ytest, ypred_poly))\n",
    "print(\"Accuracy score of polynomial SVM model is :\",accuracy_score(ytest, ypred_poly))"
   ]
  },
  {
   "cell_type": "markdown",
   "id": "8c050fee",
   "metadata": {},
   "source": [
    "## (4). Decision Tree Model"
   ]
  },
  {
   "cell_type": "code",
   "execution_count": 95,
   "id": "6f580e37",
   "metadata": {},
   "outputs": [],
   "source": [
    "from sklearn.tree import DecisionTreeClassifier"
   ]
  },
  {
   "cell_type": "code",
   "execution_count": 96,
   "id": "a1b44f9a",
   "metadata": {},
   "outputs": [],
   "source": [
    "d_tree = DecisionTreeClassifier() #creating instance\n",
    "d_tree.fit(xtrain,ytrain)         #fitting data into the model.\n",
    "ypred_tree =d_tree.predict(xtest)#predicting the values for xtest"
   ]
  },
  {
   "cell_type": "code",
   "execution_count": 101,
   "id": "87c7219f",
   "metadata": {},
   "outputs": [
    {
     "name": "stdout",
     "output_type": "stream",
     "text": [
      "[[15  0  0]\n",
      " [ 0 11  0]\n",
      " [ 0  0 12]]\n",
      "Accuracy score of Decision tree model is : 1.0\n"
     ]
    }
   ],
   "source": [
    "print(confusion_matrix(ytest, ypred_tree))\n",
    "print(\"Accuracy score of Decision tree model is :\",accuracy_score(ytest, ypred_tree))"
   ]
  },
  {
   "cell_type": "markdown",
   "id": "e7d5e16d",
   "metadata": {},
   "source": [
    "## (5). Random Forest Model"
   ]
  },
  {
   "cell_type": "code",
   "execution_count": 98,
   "id": "28d73df3",
   "metadata": {},
   "outputs": [],
   "source": [
    "from sklearn.ensemble import RandomForestClassifier"
   ]
  },
  {
   "cell_type": "code",
   "execution_count": 99,
   "id": "b375c933",
   "metadata": {},
   "outputs": [],
   "source": [
    "rf_model = RandomForestClassifier() #creating instance\n",
    "rf_model.fit(xtrain,ytrain) #fitting data into the model.\n",
    "ypred_randf= rf_model.predict(xtest) #predicting the values for xtest"
   ]
  },
  {
   "cell_type": "code",
   "execution_count": 100,
   "id": "6bb53327",
   "metadata": {},
   "outputs": [
    {
     "name": "stdout",
     "output_type": "stream",
     "text": [
      "[[15  0  0]\n",
      " [ 0 11  0]\n",
      " [ 0  0 12]]\n",
      "Accuracy score of Random forest model is : 1.0\n"
     ]
    }
   ],
   "source": [
    "print(confusion_matrix(ytest, ypred_randf))\n",
    "print(\"Accuracy score of Random forest model is :\",accuracy_score(ytest, ypred_randf))"
   ]
  },
  {
   "cell_type": "markdown",
   "id": "c5b28bbf",
   "metadata": {},
   "source": [
    "### Accuracy for the Various models created is:\n",
    "###### Logistic Regression Model\t: 0.974\n",
    "###### kNN Model\t                           : 0.974\n",
    "###### Radial SVM Model\t                  : 0.974        \n",
    "###### linear SVM Model\t                    : 1.0\n",
    "###### Polynomial SVM Model\t          : 0.974\n",
    "###### Decision tree Model\t               : 1.0\n",
    "###### Random forest Model               :1.0  \n"
   ]
  },
  {
   "cell_type": "markdown",
   "id": "4c278f89",
   "metadata": {},
   "source": [
    "Inference: \n",
    "    All the models are performing really well. However linear SVM model and Tree based models have accuracy 1.0. \n",
    "    This is mainly because, Tree-based models are generally not much affected by outliers in our dataset, while regression-based     models are."
   ]
  },
  {
   "cell_type": "code",
   "execution_count": null,
   "id": "8a96984b",
   "metadata": {},
   "outputs": [],
   "source": []
  }
 ],
 "metadata": {
  "kernelspec": {
   "display_name": "Python 3 (ipykernel)",
   "language": "python",
   "name": "python3"
  },
  "language_info": {
   "codemirror_mode": {
    "name": "ipython",
    "version": 3
   },
   "file_extension": ".py",
   "mimetype": "text/x-python",
   "name": "python",
   "nbconvert_exporter": "python",
   "pygments_lexer": "ipython3",
   "version": "3.9.12"
  }
 },
 "nbformat": 4,
 "nbformat_minor": 5
}
