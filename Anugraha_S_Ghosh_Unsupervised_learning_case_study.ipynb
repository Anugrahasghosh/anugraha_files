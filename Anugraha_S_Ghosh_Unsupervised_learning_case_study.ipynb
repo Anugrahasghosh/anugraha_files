{
 "cells": [
  {
   "cell_type": "code",
   "execution_count": 1,
   "id": "574182e0",
   "metadata": {},
   "outputs": [],
   "source": [
    "#Importing the required libraries\n",
    "import numpy as np\n",
    "import pandas as pd\n",
    "import matplotlib.pyplot as plt\n",
    "import seaborn as sns"
   ]
  },
  {
   "cell_type": "code",
   "execution_count": 2,
   "id": "69fc9880",
   "metadata": {},
   "outputs": [
    {
     "data": {
      "text/html": [
       "<div>\n",
       "<style scoped>\n",
       "    .dataframe tbody tr th:only-of-type {\n",
       "        vertical-align: middle;\n",
       "    }\n",
       "\n",
       "    .dataframe tbody tr th {\n",
       "        vertical-align: top;\n",
       "    }\n",
       "\n",
       "    .dataframe thead th {\n",
       "        text-align: right;\n",
       "    }\n",
       "</style>\n",
       "<table border=\"1\" class=\"dataframe\">\n",
       "  <thead>\n",
       "    <tr style=\"text-align: right;\">\n",
       "      <th></th>\n",
       "      <th>Alcohol</th>\n",
       "      <th>Malic_Acid</th>\n",
       "      <th>Ash</th>\n",
       "      <th>Ash_Alcanity</th>\n",
       "      <th>Magnesium</th>\n",
       "      <th>Total_Phenols</th>\n",
       "      <th>Flavanoids</th>\n",
       "      <th>Nonflavanoid_Phenols</th>\n",
       "      <th>Proanthocyanins</th>\n",
       "      <th>Color_Intensity</th>\n",
       "      <th>Hue</th>\n",
       "      <th>OD280</th>\n",
       "      <th>Proline</th>\n",
       "    </tr>\n",
       "  </thead>\n",
       "  <tbody>\n",
       "    <tr>\n",
       "      <th>0</th>\n",
       "      <td>14.23</td>\n",
       "      <td>1.71</td>\n",
       "      <td>2.43</td>\n",
       "      <td>15.6</td>\n",
       "      <td>127</td>\n",
       "      <td>2.80</td>\n",
       "      <td>3.06</td>\n",
       "      <td>0.28</td>\n",
       "      <td>2.29</td>\n",
       "      <td>5.64</td>\n",
       "      <td>1.04</td>\n",
       "      <td>3.92</td>\n",
       "      <td>1065</td>\n",
       "    </tr>\n",
       "    <tr>\n",
       "      <th>1</th>\n",
       "      <td>13.20</td>\n",
       "      <td>1.78</td>\n",
       "      <td>2.14</td>\n",
       "      <td>11.2</td>\n",
       "      <td>100</td>\n",
       "      <td>2.65</td>\n",
       "      <td>2.76</td>\n",
       "      <td>0.26</td>\n",
       "      <td>1.28</td>\n",
       "      <td>4.38</td>\n",
       "      <td>1.05</td>\n",
       "      <td>3.40</td>\n",
       "      <td>1050</td>\n",
       "    </tr>\n",
       "    <tr>\n",
       "      <th>2</th>\n",
       "      <td>13.16</td>\n",
       "      <td>2.36</td>\n",
       "      <td>2.67</td>\n",
       "      <td>18.6</td>\n",
       "      <td>101</td>\n",
       "      <td>2.80</td>\n",
       "      <td>3.24</td>\n",
       "      <td>0.30</td>\n",
       "      <td>2.81</td>\n",
       "      <td>5.68</td>\n",
       "      <td>1.03</td>\n",
       "      <td>3.17</td>\n",
       "      <td>1185</td>\n",
       "    </tr>\n",
       "    <tr>\n",
       "      <th>3</th>\n",
       "      <td>14.37</td>\n",
       "      <td>1.95</td>\n",
       "      <td>2.50</td>\n",
       "      <td>16.8</td>\n",
       "      <td>113</td>\n",
       "      <td>3.85</td>\n",
       "      <td>3.49</td>\n",
       "      <td>0.24</td>\n",
       "      <td>2.18</td>\n",
       "      <td>7.80</td>\n",
       "      <td>0.86</td>\n",
       "      <td>3.45</td>\n",
       "      <td>1480</td>\n",
       "    </tr>\n",
       "    <tr>\n",
       "      <th>4</th>\n",
       "      <td>13.24</td>\n",
       "      <td>2.59</td>\n",
       "      <td>2.87</td>\n",
       "      <td>21.0</td>\n",
       "      <td>118</td>\n",
       "      <td>2.80</td>\n",
       "      <td>2.69</td>\n",
       "      <td>0.39</td>\n",
       "      <td>1.82</td>\n",
       "      <td>4.32</td>\n",
       "      <td>1.04</td>\n",
       "      <td>2.93</td>\n",
       "      <td>735</td>\n",
       "    </tr>\n",
       "  </tbody>\n",
       "</table>\n",
       "</div>"
      ],
      "text/plain": [
       "   Alcohol  Malic_Acid   Ash  Ash_Alcanity  Magnesium  Total_Phenols  \\\n",
       "0    14.23        1.71  2.43          15.6        127           2.80   \n",
       "1    13.20        1.78  2.14          11.2        100           2.65   \n",
       "2    13.16        2.36  2.67          18.6        101           2.80   \n",
       "3    14.37        1.95  2.50          16.8        113           3.85   \n",
       "4    13.24        2.59  2.87          21.0        118           2.80   \n",
       "\n",
       "   Flavanoids  Nonflavanoid_Phenols  Proanthocyanins  Color_Intensity   Hue  \\\n",
       "0        3.06                  0.28             2.29             5.64  1.04   \n",
       "1        2.76                  0.26             1.28             4.38  1.05   \n",
       "2        3.24                  0.30             2.81             5.68  1.03   \n",
       "3        3.49                  0.24             2.18             7.80  0.86   \n",
       "4        2.69                  0.39             1.82             4.32  1.04   \n",
       "\n",
       "   OD280  Proline  \n",
       "0   3.92     1065  \n",
       "1   3.40     1050  \n",
       "2   3.17     1185  \n",
       "3   3.45     1480  \n",
       "4   2.93      735  "
      ]
     },
     "execution_count": 2,
     "metadata": {},
     "output_type": "execute_result"
    }
   ],
   "source": [
    "# Loading the dataset\n",
    "data = pd.read_csv(r\"C:\\Users\\anugr\\Downloads\\Wine_clust.csv\")\n",
    "data.head()"
   ]
  },
  {
   "cell_type": "code",
   "execution_count": 3,
   "id": "929824c0",
   "metadata": {},
   "outputs": [],
   "source": [
    "# Checking basic details of the dataset"
   ]
  },
  {
   "cell_type": "code",
   "execution_count": 4,
   "id": "d7cf4186",
   "metadata": {},
   "outputs": [
    {
     "data": {
      "text/plain": [
       "(178, 13)"
      ]
     },
     "execution_count": 4,
     "metadata": {},
     "output_type": "execute_result"
    }
   ],
   "source": [
    "data.shape"
   ]
  },
  {
   "cell_type": "code",
   "execution_count": 5,
   "id": "01954dd9",
   "metadata": {},
   "outputs": [
    {
     "data": {
      "text/plain": [
       "Index(['Alcohol', 'Malic_Acid', 'Ash', 'Ash_Alcanity', 'Magnesium',\n",
       "       'Total_Phenols', 'Flavanoids', 'Nonflavanoid_Phenols',\n",
       "       'Proanthocyanins', 'Color_Intensity', 'Hue', 'OD280', 'Proline'],\n",
       "      dtype='object')"
      ]
     },
     "execution_count": 5,
     "metadata": {},
     "output_type": "execute_result"
    }
   ],
   "source": [
    "data.columns"
   ]
  },
  {
   "cell_type": "code",
   "execution_count": 6,
   "id": "7499ccdb",
   "metadata": {},
   "outputs": [
    {
     "name": "stdout",
     "output_type": "stream",
     "text": [
      "<class 'pandas.core.frame.DataFrame'>\n",
      "RangeIndex: 178 entries, 0 to 177\n",
      "Data columns (total 13 columns):\n",
      " #   Column                Non-Null Count  Dtype  \n",
      "---  ------                --------------  -----  \n",
      " 0   Alcohol               178 non-null    float64\n",
      " 1   Malic_Acid            178 non-null    float64\n",
      " 2   Ash                   178 non-null    float64\n",
      " 3   Ash_Alcanity          178 non-null    float64\n",
      " 4   Magnesium             178 non-null    int64  \n",
      " 5   Total_Phenols         178 non-null    float64\n",
      " 6   Flavanoids            178 non-null    float64\n",
      " 7   Nonflavanoid_Phenols  178 non-null    float64\n",
      " 8   Proanthocyanins       178 non-null    float64\n",
      " 9   Color_Intensity       178 non-null    float64\n",
      " 10  Hue                   178 non-null    float64\n",
      " 11  OD280                 178 non-null    float64\n",
      " 12  Proline               178 non-null    int64  \n",
      "dtypes: float64(11), int64(2)\n",
      "memory usage: 18.2 KB\n"
     ]
    }
   ],
   "source": [
    "data.info()"
   ]
  },
  {
   "cell_type": "code",
   "execution_count": 7,
   "id": "2bb9d69e",
   "metadata": {},
   "outputs": [
    {
     "data": {
      "text/html": [
       "<div>\n",
       "<style scoped>\n",
       "    .dataframe tbody tr th:only-of-type {\n",
       "        vertical-align: middle;\n",
       "    }\n",
       "\n",
       "    .dataframe tbody tr th {\n",
       "        vertical-align: top;\n",
       "    }\n",
       "\n",
       "    .dataframe thead th {\n",
       "        text-align: right;\n",
       "    }\n",
       "</style>\n",
       "<table border=\"1\" class=\"dataframe\">\n",
       "  <thead>\n",
       "    <tr style=\"text-align: right;\">\n",
       "      <th></th>\n",
       "      <th>Alcohol</th>\n",
       "      <th>Malic_Acid</th>\n",
       "      <th>Ash</th>\n",
       "      <th>Ash_Alcanity</th>\n",
       "      <th>Magnesium</th>\n",
       "      <th>Total_Phenols</th>\n",
       "      <th>Flavanoids</th>\n",
       "      <th>Nonflavanoid_Phenols</th>\n",
       "      <th>Proanthocyanins</th>\n",
       "      <th>Color_Intensity</th>\n",
       "      <th>Hue</th>\n",
       "      <th>OD280</th>\n",
       "      <th>Proline</th>\n",
       "    </tr>\n",
       "  </thead>\n",
       "  <tbody>\n",
       "    <tr>\n",
       "      <th>count</th>\n",
       "      <td>178.000000</td>\n",
       "      <td>178.000000</td>\n",
       "      <td>178.000000</td>\n",
       "      <td>178.000000</td>\n",
       "      <td>178.000000</td>\n",
       "      <td>178.000000</td>\n",
       "      <td>178.000000</td>\n",
       "      <td>178.000000</td>\n",
       "      <td>178.000000</td>\n",
       "      <td>178.000000</td>\n",
       "      <td>178.000000</td>\n",
       "      <td>178.000000</td>\n",
       "      <td>178.000000</td>\n",
       "    </tr>\n",
       "    <tr>\n",
       "      <th>mean</th>\n",
       "      <td>13.000618</td>\n",
       "      <td>2.336348</td>\n",
       "      <td>2.366517</td>\n",
       "      <td>19.494944</td>\n",
       "      <td>99.741573</td>\n",
       "      <td>2.295112</td>\n",
       "      <td>2.029270</td>\n",
       "      <td>0.361854</td>\n",
       "      <td>1.590899</td>\n",
       "      <td>5.058090</td>\n",
       "      <td>0.957449</td>\n",
       "      <td>2.611685</td>\n",
       "      <td>746.893258</td>\n",
       "    </tr>\n",
       "    <tr>\n",
       "      <th>std</th>\n",
       "      <td>0.811827</td>\n",
       "      <td>1.117146</td>\n",
       "      <td>0.274344</td>\n",
       "      <td>3.339564</td>\n",
       "      <td>14.282484</td>\n",
       "      <td>0.625851</td>\n",
       "      <td>0.998859</td>\n",
       "      <td>0.124453</td>\n",
       "      <td>0.572359</td>\n",
       "      <td>2.318286</td>\n",
       "      <td>0.228572</td>\n",
       "      <td>0.709990</td>\n",
       "      <td>314.907474</td>\n",
       "    </tr>\n",
       "    <tr>\n",
       "      <th>min</th>\n",
       "      <td>11.030000</td>\n",
       "      <td>0.740000</td>\n",
       "      <td>1.360000</td>\n",
       "      <td>10.600000</td>\n",
       "      <td>70.000000</td>\n",
       "      <td>0.980000</td>\n",
       "      <td>0.340000</td>\n",
       "      <td>0.130000</td>\n",
       "      <td>0.410000</td>\n",
       "      <td>1.280000</td>\n",
       "      <td>0.480000</td>\n",
       "      <td>1.270000</td>\n",
       "      <td>278.000000</td>\n",
       "    </tr>\n",
       "    <tr>\n",
       "      <th>25%</th>\n",
       "      <td>12.362500</td>\n",
       "      <td>1.602500</td>\n",
       "      <td>2.210000</td>\n",
       "      <td>17.200000</td>\n",
       "      <td>88.000000</td>\n",
       "      <td>1.742500</td>\n",
       "      <td>1.205000</td>\n",
       "      <td>0.270000</td>\n",
       "      <td>1.250000</td>\n",
       "      <td>3.220000</td>\n",
       "      <td>0.782500</td>\n",
       "      <td>1.937500</td>\n",
       "      <td>500.500000</td>\n",
       "    </tr>\n",
       "    <tr>\n",
       "      <th>50%</th>\n",
       "      <td>13.050000</td>\n",
       "      <td>1.865000</td>\n",
       "      <td>2.360000</td>\n",
       "      <td>19.500000</td>\n",
       "      <td>98.000000</td>\n",
       "      <td>2.355000</td>\n",
       "      <td>2.135000</td>\n",
       "      <td>0.340000</td>\n",
       "      <td>1.555000</td>\n",
       "      <td>4.690000</td>\n",
       "      <td>0.965000</td>\n",
       "      <td>2.780000</td>\n",
       "      <td>673.500000</td>\n",
       "    </tr>\n",
       "    <tr>\n",
       "      <th>75%</th>\n",
       "      <td>13.677500</td>\n",
       "      <td>3.082500</td>\n",
       "      <td>2.557500</td>\n",
       "      <td>21.500000</td>\n",
       "      <td>107.000000</td>\n",
       "      <td>2.800000</td>\n",
       "      <td>2.875000</td>\n",
       "      <td>0.437500</td>\n",
       "      <td>1.950000</td>\n",
       "      <td>6.200000</td>\n",
       "      <td>1.120000</td>\n",
       "      <td>3.170000</td>\n",
       "      <td>985.000000</td>\n",
       "    </tr>\n",
       "    <tr>\n",
       "      <th>max</th>\n",
       "      <td>14.830000</td>\n",
       "      <td>5.800000</td>\n",
       "      <td>3.230000</td>\n",
       "      <td>30.000000</td>\n",
       "      <td>162.000000</td>\n",
       "      <td>3.880000</td>\n",
       "      <td>5.080000</td>\n",
       "      <td>0.660000</td>\n",
       "      <td>3.580000</td>\n",
       "      <td>13.000000</td>\n",
       "      <td>1.710000</td>\n",
       "      <td>4.000000</td>\n",
       "      <td>1680.000000</td>\n",
       "    </tr>\n",
       "  </tbody>\n",
       "</table>\n",
       "</div>"
      ],
      "text/plain": [
       "          Alcohol  Malic_Acid         Ash  Ash_Alcanity   Magnesium  \\\n",
       "count  178.000000  178.000000  178.000000    178.000000  178.000000   \n",
       "mean    13.000618    2.336348    2.366517     19.494944   99.741573   \n",
       "std      0.811827    1.117146    0.274344      3.339564   14.282484   \n",
       "min     11.030000    0.740000    1.360000     10.600000   70.000000   \n",
       "25%     12.362500    1.602500    2.210000     17.200000   88.000000   \n",
       "50%     13.050000    1.865000    2.360000     19.500000   98.000000   \n",
       "75%     13.677500    3.082500    2.557500     21.500000  107.000000   \n",
       "max     14.830000    5.800000    3.230000     30.000000  162.000000   \n",
       "\n",
       "       Total_Phenols  Flavanoids  Nonflavanoid_Phenols  Proanthocyanins  \\\n",
       "count     178.000000  178.000000            178.000000       178.000000   \n",
       "mean        2.295112    2.029270              0.361854         1.590899   \n",
       "std         0.625851    0.998859              0.124453         0.572359   \n",
       "min         0.980000    0.340000              0.130000         0.410000   \n",
       "25%         1.742500    1.205000              0.270000         1.250000   \n",
       "50%         2.355000    2.135000              0.340000         1.555000   \n",
       "75%         2.800000    2.875000              0.437500         1.950000   \n",
       "max         3.880000    5.080000              0.660000         3.580000   \n",
       "\n",
       "       Color_Intensity         Hue       OD280      Proline  \n",
       "count       178.000000  178.000000  178.000000   178.000000  \n",
       "mean          5.058090    0.957449    2.611685   746.893258  \n",
       "std           2.318286    0.228572    0.709990   314.907474  \n",
       "min           1.280000    0.480000    1.270000   278.000000  \n",
       "25%           3.220000    0.782500    1.937500   500.500000  \n",
       "50%           4.690000    0.965000    2.780000   673.500000  \n",
       "75%           6.200000    1.120000    3.170000   985.000000  \n",
       "max          13.000000    1.710000    4.000000  1680.000000  "
      ]
     },
     "execution_count": 7,
     "metadata": {},
     "output_type": "execute_result"
    }
   ],
   "source": [
    "data.describe()"
   ]
  },
  {
   "cell_type": "code",
   "execution_count": 8,
   "id": "d3d301fe",
   "metadata": {},
   "outputs": [],
   "source": [
    "# Checking for null values"
   ]
  },
  {
   "cell_type": "code",
   "execution_count": 9,
   "id": "f38a1945",
   "metadata": {},
   "outputs": [
    {
     "data": {
      "text/plain": [
       "Alcohol                 0\n",
       "Malic_Acid              0\n",
       "Ash                     0\n",
       "Ash_Alcanity            0\n",
       "Magnesium               0\n",
       "Total_Phenols           0\n",
       "Flavanoids              0\n",
       "Nonflavanoid_Phenols    0\n",
       "Proanthocyanins         0\n",
       "Color_Intensity         0\n",
       "Hue                     0\n",
       "OD280                   0\n",
       "Proline                 0\n",
       "dtype: int64"
      ]
     },
     "execution_count": 9,
     "metadata": {},
     "output_type": "execute_result"
    }
   ],
   "source": [
    "data.isnull().sum()"
   ]
  },
  {
   "cell_type": "markdown",
   "id": "02212404",
   "metadata": {},
   "source": [
    "There are no null values in the dataset"
   ]
  },
  {
   "cell_type": "code",
   "execution_count": 10,
   "id": "2c683f3b",
   "metadata": {},
   "outputs": [],
   "source": [
    "# Creating a dupicate file\n",
    "\n",
    "duplic_wine = data.copy()"
   ]
  },
  {
   "cell_type": "markdown",
   "id": "ef905090",
   "metadata": {},
   "source": [
    "### Outlier Handling"
   ]
  },
  {
   "cell_type": "code",
   "execution_count": 11,
   "id": "272e8298",
   "metadata": {},
   "outputs": [
    {
     "data": {
      "image/png": "[encoded data removed]",
      "text/plain": [
       "<Figure size 936x1872 with 13 Axes>"
      ]
     },
     "metadata": {
      "needs_background": "light"
     },
     "output_type": "display_data"
    }
   ],
   "source": [
    "#Checking outliers\n",
    "\n",
    "fig,ax= plt.subplots(figsize=(13,26))\n",
    "fig.suptitle('BoxPlots of each feature', fontsize=18, y=0.93)\n",
    "i=1\n",
    "\n",
    "for column in data:\n",
    "    ax1=plt.subplot(7,2,i)\n",
    "    sns.boxplot(data=data, y=data[column],ax=ax1)\n",
    "    i=i+1"
   ]
  },
  {
   "cell_type": "raw",
   "id": "911616ad",
   "metadata": {},
   "source": [
    "There are outliers in 7[Malic_Acid,Ash,Ash_Alcanity,Magnesium,Proanthocyanins,Color_Intensity and Hue] out of 13 columns."
   ]
  },
  {
   "cell_type": "code",
   "execution_count": 12,
   "id": "386a6be3",
   "metadata": {},
   "outputs": [],
   "source": [
    "## Handling outliers in Malic_Acid column"
   ]
  },
  {
   "cell_type": "code",
   "execution_count": 13,
   "id": "99cc8a23",
   "metadata": {},
   "outputs": [
    {
     "data": {
      "text/plain": [
       "<AxesSubplot:>"
      ]
     },
     "execution_count": 13,
     "metadata": {},
     "output_type": "execute_result"
    },
    {
     "data": {
      "image/png": "[encoded data removed]",
      "text/plain": [
       "<Figure size 432x288 with 1 Axes>"
      ]
     },
     "metadata": {
      "needs_background": "light"
     },
     "output_type": "display_data"
    }
   ],
   "source": [
    "sns.boxplot(data = duplic_wine[\"Malic_Acid\"])"
   ]
  },
  {
   "cell_type": "code",
   "execution_count": 14,
   "id": "af752d2b",
   "metadata": {},
   "outputs": [
    {
     "name": "stdout",
     "output_type": "stream",
     "text": [
      "The 1st Qaurtile is :  1.6025\n",
      "The second quartile is :  1.8650000000000002\n",
      "The third quartile is :  3.0825\n",
      "\n",
      "The IQR is :  1.48\n",
      "\n",
      "The upper limit =  5.3025\n",
      "The lower limit =  -0.6174999999999997\n",
      "\n",
      "The outlier values are : [5.8, 5.51, 5.65]\n",
      "\n",
      "The outlier indexs are : Int64Index([123, 137, 173], dtype='int64')\n"
     ]
    },
    {
     "data": {
      "text/plain": [
       "(175, 13)"
      ]
     },
     "execution_count": 14,
     "metadata": {},
     "output_type": "execute_result"
    }
   ],
   "source": [
    "#Finding outliers by IQR method\n",
    "Q1 = duplic_wine[\"Malic_Acid\"].quantile(0.25)\n",
    "Q2 = duplic_wine[\"Malic_Acid\"].quantile(0.5)\n",
    "Q3 = duplic_wine[\"Malic_Acid\"].quantile(0.75)\n",
    "\n",
    "IQR = Q3 - Q1\n",
    "\n",
    "u_limit = Q3 + 1.5 * IQR\n",
    "l_limit = Q1 - 1.5 * IQR\n",
    "\n",
    "print(\"The 1st Qaurtile is : \", Q1)\n",
    "print(\"The second quartile is : \", Q2)\n",
    "print(\"The third quartile is : \", Q3)\n",
    "print(\"\\nThe IQR is : \", IQR)\n",
    "print(\"\\nThe upper limit = \", u_limit)\n",
    "print(\"The lower limit = \", l_limit)\n",
    "\n",
    "\n",
    "outliers = []\n",
    "for x in duplic_wine[\"Malic_Acid\"]:\n",
    "    if (x < l_limit) or (x > u_limit):\n",
    "        outliers.append(x)\n",
    "\n",
    "print(f\"\\nThe outlier values are : {outliers}\")\n",
    "\n",
    "Index = duplic_wine[(duplic_wine[\"Malic_Acid\"] > u_limit) | (duplic_wine[\"Malic_Acid\"] < l_limit)].index\n",
    "print(f\"\\nThe outlier indexs are : {Index}\")\n",
    "\n",
    "duplic_wine.drop(Index, inplace=True)\n",
    "duplic_wine.shape"
   ]
  },
  {
   "cell_type": "code",
   "execution_count": 15,
   "id": "23799db2",
   "metadata": {},
   "outputs": [],
   "source": [
    "# Handling outliers in Ash feature"
   ]
  },
  {
   "cell_type": "code",
   "execution_count": 16,
   "id": "3d0b64ed",
   "metadata": {},
   "outputs": [
    {
     "data": {
      "text/plain": [
       "<AxesSubplot:>"
      ]
     },
     "execution_count": 16,
     "metadata": {},
     "output_type": "execute_result"
    },
    {
     "data": {
      "image/png": "[encoded data removed]",
      "text/plain": [
       "<Figure size 432x288 with 1 Axes>"
      ]
     },
     "metadata": {
      "needs_background": "light"
     },
     "output_type": "display_data"
    }
   ],
   "source": [
    "sns.boxplot(data = data[\"Ash\"])"
   ]
  },
  {
   "cell_type": "code",
   "execution_count": 17,
   "id": "85358f70",
   "metadata": {},
   "outputs": [
    {
     "name": "stdout",
     "output_type": "stream",
     "text": [
      "The 1st Qaurtile is :  2.21\n",
      "The second quartile is :  2.36\n",
      "The third quartile is :  2.5549999999999997\n",
      "\n",
      "The IQR is :  0.34499999999999975\n",
      "\n",
      "The upper limit =  3.0724999999999993\n",
      "The lower limit =  1.6925000000000003\n",
      "\n",
      "The outlier values are : [3.22, 1.36, 3.23]\n",
      "\n",
      "The outlier indexs are : Int64Index([25, 59, 121], dtype='int64')\n"
     ]
    },
    {
     "data": {
      "text/plain": [
       "(172, 13)"
      ]
     },
     "execution_count": 17,
     "metadata": {},
     "output_type": "execute_result"
    }
   ],
   "source": [
    "Q1 = duplic_wine[\"Ash\"].quantile(0.25)\n",
    "Q2 = duplic_wine[\"Ash\"].quantile(0.5)\n",
    "Q3 = duplic_wine[\"Ash\"].quantile(0.75)\n",
    "\n",
    "IQR = Q3 - Q1\n",
    "\n",
    "u_limit = Q3 + 1.5 * IQR\n",
    "l_limit = Q1 - 1.5 * IQR\n",
    "\n",
    "print(\"The 1st Qaurtile is : \", Q1)\n",
    "print(\"The second quartile is : \", Q2)\n",
    "print(\"The third quartile is : \", Q3)\n",
    "print(\"\\nThe IQR is : \", IQR)\n",
    "print(\"\\nThe upper limit = \", u_limit)\n",
    "print(\"The lower limit = \", l_limit)\n",
    "\n",
    "\n",
    "outliers = []\n",
    "for x in duplic_wine[\"Ash\"]:\n",
    "    if (x < l_limit) or (x > u_limit):\n",
    "        outliers.append(x)\n",
    "\n",
    "print(f\"\\nThe outlier values are : {outliers}\")\n",
    "\n",
    "Index = duplic_wine[(duplic_wine[\"Ash\"] > u_limit) | (duplic_wine[\"Ash\"] < l_limit)].index\n",
    "print(f\"\\nThe outlier indexs are : {Index}\")\n",
    "\n",
    "duplic_wine.drop(Index, inplace=True)\n",
    "duplic_wine.shape"
   ]
  },
  {
   "cell_type": "code",
   "execution_count": 18,
   "id": "e9cff5f4",
   "metadata": {},
   "outputs": [],
   "source": [
    "# Handling outliers in Ash_Alcanity feature"
   ]
  },
  {
   "cell_type": "code",
   "execution_count": 19,
   "id": "09cf3e55",
   "metadata": {},
   "outputs": [
    {
     "data": {
      "text/plain": [
       "<AxesSubplot:>"
      ]
     },
     "execution_count": 19,
     "metadata": {},
     "output_type": "execute_result"
    },
    {
     "data": {
      "image/png": "[encoded data removed]",
      "text/plain": [
       "<Figure size 432x288 with 1 Axes>"
      ]
     },
     "metadata": {
      "needs_background": "light"
     },
     "output_type": "display_data"
    }
   ],
   "source": [
    "sns.boxplot(data = data[\"Ash_Alcanity\"])"
   ]
  },
  {
   "cell_type": "code",
   "execution_count": 20,
   "id": "fd3fdb10",
   "metadata": {},
   "outputs": [
    {
     "name": "stdout",
     "output_type": "stream",
     "text": [
      "The 1st Qaurtile is :  17.175\n",
      "The second quartile is :  19.25\n",
      "The third quartile is :  21.5\n",
      "\n",
      "The IQR is :  4.324999999999999\n",
      "\n",
      "The upper limit =  27.987499999999997\n",
      "The lower limit =  10.687500000000002\n",
      "\n",
      "The outlier values are : [30.0, 28.5]\n",
      "\n",
      "The outlier indexs are : Int64Index([73, 127], dtype='int64')\n"
     ]
    },
    {
     "data": {
      "text/plain": [
       "(170, 13)"
      ]
     },
     "execution_count": 20,
     "metadata": {},
     "output_type": "execute_result"
    }
   ],
   "source": [
    "Q1 = duplic_wine[\"Ash_Alcanity\"].quantile(0.25)\n",
    "Q2 = duplic_wine[\"Ash_Alcanity\"].quantile(0.5)\n",
    "Q3 = duplic_wine[\"Ash_Alcanity\"].quantile(0.75)\n",
    "\n",
    "IQR = Q3 - Q1\n",
    "\n",
    "u_limit = Q3 + 1.5 * IQR\n",
    "l_limit = Q1 - 1.5 * IQR\n",
    "\n",
    "print(\"The 1st Qaurtile is : \", Q1)\n",
    "print(\"The second quartile is : \", Q2)\n",
    "print(\"The third quartile is : \", Q3)\n",
    "print(\"\\nThe IQR is : \", IQR)\n",
    "print(\"\\nThe upper limit = \", u_limit)\n",
    "print(\"The lower limit = \", l_limit)\n",
    "\n",
    "\n",
    "outliers = []\n",
    "for x in duplic_wine[\"Ash_Alcanity\"]:\n",
    "    if (x < l_limit) or (x > u_limit):\n",
    "        outliers.append(x)\n",
    "\n",
    "print(f\"\\nThe outlier values are : {outliers}\")\n",
    "\n",
    "Index = duplic_wine[(duplic_wine[\"Ash_Alcanity\"] > u_limit) | (duplic_wine[\"Ash_Alcanity\"] < l_limit)].index\n",
    "print(f\"\\nThe outlier indexs are : {Index}\")\n",
    "\n",
    "duplic_wine.drop(Index, inplace=True)\n",
    "duplic_wine.shape\n",
    "\n"
   ]
  },
  {
   "cell_type": "code",
   "execution_count": 21,
   "id": "235ee10f",
   "metadata": {},
   "outputs": [],
   "source": [
    "# Handling outliers in Magnesium feature"
   ]
  },
  {
   "cell_type": "code",
   "execution_count": 22,
   "id": "c2ace3b9",
   "metadata": {},
   "outputs": [
    {
     "data": {
      "text/plain": [
       "<AxesSubplot:>"
      ]
     },
     "execution_count": 22,
     "metadata": {},
     "output_type": "execute_result"
    },
    {
     "data": {
      "image/png": "[encoded data removed]",
      "text/plain": [
       "<Figure size 432x288 with 1 Axes>"
      ]
     },
     "metadata": {
      "needs_background": "light"
     },
     "output_type": "display_data"
    }
   ],
   "source": [
    "sns.boxplot(data = data[\"Magnesium\"])"
   ]
  },
  {
   "cell_type": "code",
   "execution_count": 23,
   "id": "f14d886f",
   "metadata": {},
   "outputs": [
    {
     "name": "stdout",
     "output_type": "stream",
     "text": [
      "The 1st Qaurtile is :  88.0\n",
      "The second quartile is :  98.0\n",
      "The third quartile is :  107.0\n",
      "\n",
      "The IQR is :  19.0\n",
      "\n",
      "The upper limit =  135.5\n",
      "The lower limit =  59.5\n",
      "\n",
      "The outlier values are : [151, 136, 162]\n",
      "\n",
      "The outlier indexs are : Int64Index([69, 78, 95], dtype='int64')\n"
     ]
    },
    {
     "data": {
      "text/plain": [
       "(167, 13)"
      ]
     },
     "execution_count": 23,
     "metadata": {},
     "output_type": "execute_result"
    }
   ],
   "source": [
    "Q1 = duplic_wine[\"Magnesium\"].quantile(0.25)\n",
    "Q2 = duplic_wine[\"Magnesium\"].quantile(0.5)\n",
    "Q3 = duplic_wine[\"Magnesium\"].quantile(0.75)\n",
    "\n",
    "IQR = Q3 - Q1\n",
    "\n",
    "u_limit = Q3 + 1.5 * IQR\n",
    "l_limit = Q1 - 1.5 * IQR\n",
    "\n",
    "print(\"The 1st Qaurtile is : \", Q1)\n",
    "print(\"The second quartile is : \", Q2)\n",
    "print(\"The third quartile is : \", Q3)\n",
    "print(\"\\nThe IQR is : \", IQR)\n",
    "print(\"\\nThe upper limit = \", u_limit)\n",
    "print(\"The lower limit = \", l_limit)\n",
    "\n",
    "\n",
    "outliers = []\n",
    "for x in duplic_wine[\"Magnesium\"]:\n",
    "    if (x < l_limit) or (x > u_limit):\n",
    "        outliers.append(x)\n",
    "\n",
    "print(f\"\\nThe outlier values are : {outliers}\")\n",
    "\n",
    "Index = duplic_wine[(duplic_wine[\"Magnesium\"] > u_limit) | (duplic_wine[\"Magnesium\"] < l_limit)].index\n",
    "print(f\"\\nThe outlier indexs are : {Index}\")\n",
    "\n",
    "duplic_wine.drop(Index, inplace=True)\n",
    "duplic_wine.shape"
   ]
  },
  {
   "cell_type": "code",
   "execution_count": 24,
   "id": "d477264b",
   "metadata": {},
   "outputs": [],
   "source": [
    "# Handling outliers in Proanthocyanins feature : "
   ]
  },
  {
   "cell_type": "code",
   "execution_count": 25,
   "id": "f4250346",
   "metadata": {},
   "outputs": [
    {
     "data": {
      "text/plain": [
       "<AxesSubplot:>"
      ]
     },
     "execution_count": 25,
     "metadata": {},
     "output_type": "execute_result"
    },
    {
     "data": {
      "image/png": "[encoded data removed]",
      "text/plain": [
       "<Figure size 432x288 with 1 Axes>"
      ]
     },
     "metadata": {
      "needs_background": "light"
     },
     "output_type": "display_data"
    }
   ],
   "source": [
    "sns.boxplot(data = data[\"Proanthocyanins\"])"
   ]
  },
  {
   "cell_type": "code",
   "execution_count": 26,
   "id": "79b1bc79",
   "metadata": {},
   "outputs": [
    {
     "name": "stdout",
     "output_type": "stream",
     "text": [
      "The 1st Qaurtile is :  1.25\n",
      "The second quartile is :  1.54\n",
      "The third quartile is :  1.9249999999999998\n",
      "\n",
      "The IQR is :  0.6749999999999998\n",
      "\n",
      "The upper limit =  2.9374999999999996\n",
      "The lower limit =  0.23750000000000027\n",
      "\n",
      "The outlier values are : [2.96, 3.58]\n",
      "\n",
      "The outlier indexs are : Int64Index([14, 110], dtype='int64')\n"
     ]
    },
    {
     "data": {
      "text/plain": [
       "(165, 13)"
      ]
     },
     "execution_count": 26,
     "metadata": {},
     "output_type": "execute_result"
    }
   ],
   "source": [
    "Q1 = duplic_wine[\"Proanthocyanins\"].quantile(0.25)\n",
    "Q2 = duplic_wine[\"Proanthocyanins\"].quantile(0.5)\n",
    "Q3 = duplic_wine[\"Proanthocyanins\"].quantile(0.75)\n",
    "\n",
    "IQR = Q3 - Q1\n",
    "\n",
    "u_limit = Q3 + 1.5 * IQR\n",
    "l_limit = Q1 - 1.5 * IQR\n",
    "\n",
    "print(\"The 1st Qaurtile is : \", Q1)\n",
    "print(\"The second quartile is : \", Q2)\n",
    "print(\"The third quartile is : \", Q3)\n",
    "print(\"\\nThe IQR is : \", IQR)\n",
    "print(\"\\nThe upper limit = \", u_limit)\n",
    "print(\"The lower limit = \", l_limit)\n",
    "\n",
    "\n",
    "outliers = []\n",
    "for x in duplic_wine[\"Proanthocyanins\"]:\n",
    "    if (x < l_limit) or (x > u_limit):\n",
    "        outliers.append(x)\n",
    "\n",
    "print(f\"\\nThe outlier values are : {outliers}\")\n",
    "\n",
    "Index = duplic_wine[(duplic_wine[\"Proanthocyanins\"] > u_limit) | (duplic_wine[\"Proanthocyanins\"] < l_limit)].index\n",
    "print(f\"\\nThe outlier indexs are : {Index}\")\n",
    "\n",
    "duplic_wine.drop(Index, inplace=True)\n",
    "duplic_wine.shape"
   ]
  },
  {
   "cell_type": "code",
   "execution_count": 27,
   "id": "e63849c5",
   "metadata": {},
   "outputs": [],
   "source": [
    "# Handling outliers in Color_Intensity feature "
   ]
  },
  {
   "cell_type": "code",
   "execution_count": 28,
   "id": "6a0d4d2b",
   "metadata": {},
   "outputs": [
    {
     "data": {
      "text/plain": [
       "<AxesSubplot:>"
      ]
     },
     "execution_count": 28,
     "metadata": {},
     "output_type": "execute_result"
    },
    {
     "data": {
      "image/png": "[encoded data removed]",
      "text/plain": [
       "<Figure size 432x288 with 1 Axes>"
      ]
     },
     "metadata": {
      "needs_background": "light"
     },
     "output_type": "display_data"
    }
   ],
   "source": [
    "sns.boxplot(data = data[\"Color_Intensity\"])"
   ]
  },
  {
   "cell_type": "code",
   "execution_count": 29,
   "id": "cba2529a",
   "metadata": {},
   "outputs": [
    {
     "name": "stdout",
     "output_type": "stream",
     "text": [
      "The 1st Qaurtile is :  3.27\n",
      "The second quartile is :  4.8\n",
      "The third quartile is :  6.25\n",
      "\n",
      "The IQR is :  2.98\n",
      "\n",
      "The upper limit =  10.719999999999999\n",
      "The lower limit =  -1.1999999999999997\n",
      "\n",
      "The outlier values are : [10.8, 13.0, 11.75]\n",
      "\n",
      "The outlier indexs are : Int64Index([151, 158, 159], dtype='int64')\n"
     ]
    },
    {
     "data": {
      "text/plain": [
       "(162, 13)"
      ]
     },
     "execution_count": 29,
     "metadata": {},
     "output_type": "execute_result"
    }
   ],
   "source": [
    "Q1 = duplic_wine[\"Color_Intensity\"].quantile(0.25)\n",
    "Q2 = duplic_wine[\"Color_Intensity\"].quantile(0.5)\n",
    "Q3 = duplic_wine[\"Color_Intensity\"].quantile(0.75)\n",
    "\n",
    "IQR = Q3 - Q1\n",
    "\n",
    "u_limit = Q3 + 1.5 * IQR\n",
    "l_limit = Q1 - 1.5 * IQR\n",
    "\n",
    "print(\"The 1st Qaurtile is : \", Q1)\n",
    "print(\"The second quartile is : \", Q2)\n",
    "print(\"The third quartile is : \", Q3)\n",
    "print(\"\\nThe IQR is : \", IQR)\n",
    "print(\"\\nThe upper limit = \", u_limit)\n",
    "print(\"The lower limit = \", l_limit)\n",
    "\n",
    "\n",
    "outliers = []\n",
    "for x in duplic_wine[\"Color_Intensity\"]:\n",
    "    if (x < l_limit) or (x > u_limit):\n",
    "        outliers.append(x)\n",
    "\n",
    "print(f\"\\nThe outlier values are : {outliers}\")\n",
    "\n",
    "Index = duplic_wine[(duplic_wine[\"Color_Intensity\"] > u_limit) | (duplic_wine[\"Color_Intensity\"] < l_limit)].index\n",
    "print(f\"\\nThe outlier indexs are : {Index}\")\n",
    "\n",
    "duplic_wine.drop(Index, inplace=True)\n",
    "duplic_wine.shape"
   ]
  },
  {
   "cell_type": "code",
   "execution_count": 30,
   "id": "3867af90",
   "metadata": {},
   "outputs": [],
   "source": [
    "# Handling outliers in Hue feature :"
   ]
  },
  {
   "cell_type": "code",
   "execution_count": 31,
   "id": "18827692",
   "metadata": {},
   "outputs": [
    {
     "data": {
      "text/plain": [
       "<AxesSubplot:>"
      ]
     },
     "execution_count": 31,
     "metadata": {},
     "output_type": "execute_result"
    },
    {
     "data": {
      "image/png": "[encoded data removed]",
      "text/plain": [
       "<Figure size 432x288 with 1 Axes>"
      ]
     },
     "metadata": {
      "needs_background": "light"
     },
     "output_type": "display_data"
    }
   ],
   "source": [
    "sns.boxplot(data = data[\"Hue\"])"
   ]
  },
  {
   "cell_type": "code",
   "execution_count": 32,
   "id": "019d9019",
   "metadata": {},
   "outputs": [
    {
     "name": "stdout",
     "output_type": "stream",
     "text": [
      "The 1st Qaurtile is :  0.7925\n",
      "The second quartile is :  0.97\n",
      "The third quartile is :  1.12\n",
      "\n",
      "The IQR is :  0.3275000000000001\n",
      "\n",
      "The upper limit =  1.6112500000000003\n",
      "The lower limit =  0.3012499999999998\n",
      "\n",
      "The outlier values are : [1.71]\n",
      "\n",
      "The outlier indexs are : Int64Index([115], dtype='int64')\n"
     ]
    },
    {
     "data": {
      "text/plain": [
       "(161, 13)"
      ]
     },
     "execution_count": 32,
     "metadata": {},
     "output_type": "execute_result"
    }
   ],
   "source": [
    "Q1 = duplic_wine[\"Hue\"].quantile(0.25)\n",
    "Q2 = duplic_wine[\"Hue\"].quantile(0.5)\n",
    "Q3 = duplic_wine[\"Hue\"].quantile(0.75)\n",
    "\n",
    "IQR = Q3 - Q1\n",
    "\n",
    "u_limit = Q3 + 1.5 * IQR\n",
    "l_limit = Q1 - 1.5 * IQR\n",
    "\n",
    "print(\"The 1st Qaurtile is : \", Q1)\n",
    "print(\"The second quartile is : \", Q2)\n",
    "print(\"The third quartile is : \", Q3)\n",
    "print(\"\\nThe IQR is : \", IQR)\n",
    "print(\"\\nThe upper limit = \", u_limit)\n",
    "print(\"The lower limit = \", l_limit)\n",
    "\n",
    "\n",
    "outliers = []\n",
    "for x in duplic_wine[\"Hue\"]:\n",
    "    if (x < l_limit) or (x > u_limit):\n",
    "        outliers.append(x)\n",
    "\n",
    "print(f\"\\nThe outlier values are : {outliers}\")\n",
    "\n",
    "Index = duplic_wine[(duplic_wine[\"Hue\"] > u_limit) | (duplic_wine[\"Hue\"] < l_limit)].index\n",
    "print(f\"\\nThe outlier indexs are : {Index}\")\n",
    "\n",
    "duplic_wine.drop(Index, inplace=True)\n",
    "duplic_wine.shape"
   ]
  },
  {
   "cell_type": "code",
   "execution_count": 33,
   "id": "e51f0ae9",
   "metadata": {},
   "outputs": [
    {
     "data": {
      "image/png": "[encoded data removed]",
      "text/plain": [
       "<Figure size 1296x576 with 1 Axes>"
      ]
     },
     "metadata": {
      "needs_background": "light"
     },
     "output_type": "display_data"
    }
   ],
   "source": [
    "plt.figure(figsize=(18,8))\n",
    "sns.boxplot(data= duplic_wine)\n",
    "plt.xticks(rotation = 90);"
   ]
  },
  {
   "cell_type": "markdown",
   "id": "2675281c",
   "metadata": {},
   "source": [
    "Now we have treated all the outliers present in our dataset."
   ]
  },
  {
   "cell_type": "markdown",
   "id": "8fe97b4d",
   "metadata": {},
   "source": [
    "##### We can see that the scales are varying for different parameters, so we'll do standard scaling on dataset"
   ]
  },
  {
   "cell_type": "code",
   "execution_count": 34,
   "id": "dac050c1",
   "metadata": {},
   "outputs": [],
   "source": [
    "#Standard scaling our dataset\n",
    "from sklearn.preprocessing import StandardScaler\n",
    "ss =StandardScaler()\n",
    "data_scaled = ss.fit_transform(duplic_wine)\n",
    "data_scaled =pd.DataFrame(data_scaled,columns=list(duplic_wine))\n"
   ]
  },
  {
   "cell_type": "code",
   "execution_count": 35,
   "id": "328fbdef",
   "metadata": {},
   "outputs": [
    {
     "name": "stdout",
     "output_type": "stream",
     "text": [
      "<class 'pandas.core.frame.DataFrame'>\n",
      "RangeIndex: 161 entries, 0 to 160\n",
      "Data columns (total 13 columns):\n",
      " #   Column                Non-Null Count  Dtype  \n",
      "---  ------                --------------  -----  \n",
      " 0   Alcohol               161 non-null    float64\n",
      " 1   Malic_Acid            161 non-null    float64\n",
      " 2   Ash                   161 non-null    float64\n",
      " 3   Ash_Alcanity          161 non-null    float64\n",
      " 4   Magnesium             161 non-null    float64\n",
      " 5   Total_Phenols         161 non-null    float64\n",
      " 6   Flavanoids            161 non-null    float64\n",
      " 7   Nonflavanoid_Phenols  161 non-null    float64\n",
      " 8   Proanthocyanins       161 non-null    float64\n",
      " 9   Color_Intensity       161 non-null    float64\n",
      " 10  Hue                   161 non-null    float64\n",
      " 11  OD280                 161 non-null    float64\n",
      " 12  Proline               161 non-null    float64\n",
      "dtypes: float64(13)\n",
      "memory usage: 16.5 KB\n"
     ]
    }
   ],
   "source": [
    "data_scaled.info()"
   ]
  },
  {
   "cell_type": "code",
   "execution_count": 36,
   "id": "b172d2b5",
   "metadata": {},
   "outputs": [
    {
     "data": {
      "text/html": [
       "<div>\n",
       "<style scoped>\n",
       "    .dataframe tbody tr th:only-of-type {\n",
       "        vertical-align: middle;\n",
       "    }\n",
       "\n",
       "    .dataframe tbody tr th {\n",
       "        vertical-align: top;\n",
       "    }\n",
       "\n",
       "    .dataframe thead th {\n",
       "        text-align: right;\n",
       "    }\n",
       "</style>\n",
       "<table border=\"1\" class=\"dataframe\">\n",
       "  <thead>\n",
       "    <tr style=\"text-align: right;\">\n",
       "      <th></th>\n",
       "      <th>Alcohol</th>\n",
       "      <th>Malic_Acid</th>\n",
       "      <th>Ash</th>\n",
       "      <th>Ash_Alcanity</th>\n",
       "      <th>Magnesium</th>\n",
       "      <th>Total_Phenols</th>\n",
       "      <th>Flavanoids</th>\n",
       "      <th>Nonflavanoid_Phenols</th>\n",
       "      <th>Proanthocyanins</th>\n",
       "      <th>Color_Intensity</th>\n",
       "      <th>Hue</th>\n",
       "      <th>OD280</th>\n",
       "      <th>Proline</th>\n",
       "    </tr>\n",
       "  </thead>\n",
       "  <tbody>\n",
       "    <tr>\n",
       "      <th>0</th>\n",
       "      <td>1.515163</td>\n",
       "      <td>-0.579166</td>\n",
       "      <td>0.270936</td>\n",
       "      <td>-1.248144</td>\n",
       "      <td>2.298023</td>\n",
       "      <td>0.828643</td>\n",
       "      <td>1.055948</td>\n",
       "      <td>-0.650569</td>\n",
       "      <td>1.466583</td>\n",
       "      <td>0.282097</td>\n",
       "      <td>0.383333</td>\n",
       "      <td>1.828097</td>\n",
       "      <td>0.982174</td>\n",
       "    </tr>\n",
       "    <tr>\n",
       "      <th>1</th>\n",
       "      <td>0.209648</td>\n",
       "      <td>-0.512507</td>\n",
       "      <td>-0.931537</td>\n",
       "      <td>-2.732175</td>\n",
       "      <td>0.114047</td>\n",
       "      <td>0.589411</td>\n",
       "      <td>0.749315</td>\n",
       "      <td>-0.815257</td>\n",
       "      <td>-0.505150</td>\n",
       "      <td>-0.304357</td>\n",
       "      <td>0.429479</td>\n",
       "      <td>1.096928</td>\n",
       "      <td>0.934830</td>\n",
       "    </tr>\n",
       "    <tr>\n",
       "      <th>2</th>\n",
       "      <td>0.158948</td>\n",
       "      <td>0.039806</td>\n",
       "      <td>1.266087</td>\n",
       "      <td>-0.236305</td>\n",
       "      <td>0.194935</td>\n",
       "      <td>0.828643</td>\n",
       "      <td>1.239928</td>\n",
       "      <td>-0.485881</td>\n",
       "      <td>2.481732</td>\n",
       "      <td>0.300715</td>\n",
       "      <td>0.337186</td>\n",
       "      <td>0.773526</td>\n",
       "      <td>1.360929</td>\n",
       "    </tr>\n",
       "    <tr>\n",
       "      <th>3</th>\n",
       "      <td>1.692612</td>\n",
       "      <td>-0.350622</td>\n",
       "      <td>0.561189</td>\n",
       "      <td>-0.843409</td>\n",
       "      <td>1.165591</td>\n",
       "      <td>2.503264</td>\n",
       "      <td>1.495455</td>\n",
       "      <td>-0.979945</td>\n",
       "      <td>1.251840</td>\n",
       "      <td>1.287448</td>\n",
       "      <td>-0.447308</td>\n",
       "      <td>1.167233</td>\n",
       "      <td>2.292034</td>\n",
       "    </tr>\n",
       "    <tr>\n",
       "      <th>4</th>\n",
       "      <td>0.260347</td>\n",
       "      <td>0.258826</td>\n",
       "      <td>2.095379</td>\n",
       "      <td>0.573166</td>\n",
       "      <td>1.570031</td>\n",
       "      <td>0.828643</td>\n",
       "      <td>0.677767</td>\n",
       "      <td>0.255215</td>\n",
       "      <td>0.549044</td>\n",
       "      <td>-0.332284</td>\n",
       "      <td>0.383333</td>\n",
       "      <td>0.436064</td>\n",
       "      <td>-0.059401</td>\n",
       "    </tr>\n",
       "  </tbody>\n",
       "</table>\n",
       "</div>"
      ],
      "text/plain": [
       "    Alcohol  Malic_Acid       Ash  Ash_Alcanity  Magnesium  Total_Phenols  \\\n",
       "0  1.515163   -0.579166  0.270936     -1.248144   2.298023       0.828643   \n",
       "1  0.209648   -0.512507 -0.931537     -2.732175   0.114047       0.589411   \n",
       "2  0.158948    0.039806  1.266087     -0.236305   0.194935       0.828643   \n",
       "3  1.692612   -0.350622  0.561189     -0.843409   1.165591       2.503264   \n",
       "4  0.260347    0.258826  2.095379      0.573166   1.570031       0.828643   \n",
       "\n",
       "   Flavanoids  Nonflavanoid_Phenols  Proanthocyanins  Color_Intensity  \\\n",
       "0    1.055948             -0.650569         1.466583         0.282097   \n",
       "1    0.749315             -0.815257        -0.505150        -0.304357   \n",
       "2    1.239928             -0.485881         2.481732         0.300715   \n",
       "3    1.495455             -0.979945         1.251840         1.287448   \n",
       "4    0.677767              0.255215         0.549044        -0.332284   \n",
       "\n",
       "        Hue     OD280   Proline  \n",
       "0  0.383333  1.828097  0.982174  \n",
       "1  0.429479  1.096928  0.934830  \n",
       "2  0.337186  0.773526  1.360929  \n",
       "3 -0.447308  1.167233  2.292034  \n",
       "4  0.383333  0.436064 -0.059401  "
      ]
     },
     "execution_count": 36,
     "metadata": {},
     "output_type": "execute_result"
    }
   ],
   "source": [
    "data_scaled.head()"
   ]
  },
  {
   "cell_type": "code",
   "execution_count": 37,
   "id": "30a86902",
   "metadata": {},
   "outputs": [
    {
     "data": {
      "text/html": [
       "<div>\n",
       "<style scoped>\n",
       "    .dataframe tbody tr th:only-of-type {\n",
       "        vertical-align: middle;\n",
       "    }\n",
       "\n",
       "    .dataframe tbody tr th {\n",
       "        vertical-align: top;\n",
       "    }\n",
       "\n",
       "    .dataframe thead th {\n",
       "        text-align: right;\n",
       "    }\n",
       "</style>\n",
       "<table border=\"1\" class=\"dataframe\">\n",
       "  <thead>\n",
       "    <tr style=\"text-align: right;\">\n",
       "      <th></th>\n",
       "      <th>Alcohol</th>\n",
       "      <th>Malic_Acid</th>\n",
       "      <th>Ash</th>\n",
       "      <th>Ash_Alcanity</th>\n",
       "      <th>Magnesium</th>\n",
       "      <th>Total_Phenols</th>\n",
       "      <th>Flavanoids</th>\n",
       "      <th>Nonflavanoid_Phenols</th>\n",
       "      <th>Proanthocyanins</th>\n",
       "      <th>Color_Intensity</th>\n",
       "      <th>Hue</th>\n",
       "      <th>OD280</th>\n",
       "      <th>Proline</th>\n",
       "    </tr>\n",
       "  </thead>\n",
       "  <tbody>\n",
       "    <tr>\n",
       "      <th>count</th>\n",
       "      <td>1.610000e+02</td>\n",
       "      <td>1.610000e+02</td>\n",
       "      <td>1.610000e+02</td>\n",
       "      <td>1.610000e+02</td>\n",
       "      <td>1.610000e+02</td>\n",
       "      <td>1.610000e+02</td>\n",
       "      <td>1.610000e+02</td>\n",
       "      <td>1.610000e+02</td>\n",
       "      <td>1.610000e+02</td>\n",
       "      <td>1.610000e+02</td>\n",
       "      <td>1.610000e+02</td>\n",
       "      <td>1.610000e+02</td>\n",
       "      <td>1.610000e+02</td>\n",
       "    </tr>\n",
       "    <tr>\n",
       "      <th>mean</th>\n",
       "      <td>3.082420e-15</td>\n",
       "      <td>-1.130910e-16</td>\n",
       "      <td>8.936951e-16</td>\n",
       "      <td>-7.033711e-17</td>\n",
       "      <td>-2.770386e-16</td>\n",
       "      <td>1.999781e-17</td>\n",
       "      <td>-5.047722e-16</td>\n",
       "      <td>-3.020358e-16</td>\n",
       "      <td>-4.585704e-17</td>\n",
       "      <td>2.358362e-16</td>\n",
       "      <td>9.336907e-16</td>\n",
       "      <td>-8.137038e-17</td>\n",
       "      <td>-2.965192e-17</td>\n",
       "    </tr>\n",
       "    <tr>\n",
       "      <th>std</th>\n",
       "      <td>1.003120e+00</td>\n",
       "      <td>1.003120e+00</td>\n",
       "      <td>1.003120e+00</td>\n",
       "      <td>1.003120e+00</td>\n",
       "      <td>1.003120e+00</td>\n",
       "      <td>1.003120e+00</td>\n",
       "      <td>1.003120e+00</td>\n",
       "      <td>1.003120e+00</td>\n",
       "      <td>1.003120e+00</td>\n",
       "      <td>1.003120e+00</td>\n",
       "      <td>1.003120e+00</td>\n",
       "      <td>1.003120e+00</td>\n",
       "      <td>1.003120e+00</td>\n",
       "    </tr>\n",
       "    <tr>\n",
       "      <th>min</th>\n",
       "      <td>-2.059161e+00</td>\n",
       "      <td>-1.502862e+00</td>\n",
       "      <td>-2.755979e+00</td>\n",
       "      <td>-2.732175e+00</td>\n",
       "      <td>-2.312593e+00</td>\n",
       "      <td>-2.074034e+00</td>\n",
       "      <td>-1.724192e+00</td>\n",
       "      <td>-1.885730e+00</td>\n",
       "      <td>-2.203572e+00</td>\n",
       "      <td>-1.747222e+00</td>\n",
       "      <td>-1.924002e+00</td>\n",
       "      <td>-1.898052e+00</td>\n",
       "      <td>-1.501825e+00</td>\n",
       "    </tr>\n",
       "    <tr>\n",
       "      <th>25%</th>\n",
       "      <td>-8.423697e-01</td>\n",
       "      <td>-6.743920e-01</td>\n",
       "      <td>-5.583556e-01</td>\n",
       "      <td>-7.084969e-01</td>\n",
       "      <td>-8.566089e-01</td>\n",
       "      <td>-9.257223e-01</td>\n",
       "      <td>-8.451773e-01</td>\n",
       "      <td>-7.329132e-01</td>\n",
       "      <td>-5.832379e-01</td>\n",
       "      <td>-8.209962e-01</td>\n",
       "      <td>-7.703344e-01</td>\n",
       "      <td>-8.716036e-01</td>\n",
       "      <td>-7.948163e-01</td>\n",
       "    </tr>\n",
       "    <tr>\n",
       "      <th>50%</th>\n",
       "      <td>4.487390e-02</td>\n",
       "      <td>-4.363261e-01</td>\n",
       "      <td>-1.931581e-02</td>\n",
       "      <td>-1.013934e-01</td>\n",
       "      <td>-4.772894e-02</td>\n",
       "      <td>6.310167e-02</td>\n",
       "      <td>1.053853e-01</td>\n",
       "      <td>-1.565048e-01</td>\n",
       "      <td>-1.147075e-01</td>\n",
       "      <td>-1.088726e-01</td>\n",
       "      <td>1.415929e-02</td>\n",
       "      <td>2.251497e-01</td>\n",
       "      <td>-2.487783e-01</td>\n",
       "    </tr>\n",
       "    <tr>\n",
       "      <th>75%</th>\n",
       "      <td>8.307182e-01</td>\n",
       "      <td>7.444810e-01</td>\n",
       "      <td>7.270469e-01</td>\n",
       "      <td>5.731660e-01</td>\n",
       "      <td>5.993751e-01</td>\n",
       "      <td>8.286428e-01</td>\n",
       "      <td>8.924102e-01</td>\n",
       "      <td>5.845916e-01</td>\n",
       "      <td>6.466544e-01</td>\n",
       "      <td>5.427439e-01</td>\n",
       "      <td>7.525063e-01</td>\n",
       "      <td>7.875873e-01</td>\n",
       "      <td>8.401414e-01</td>\n",
       "    </tr>\n",
       "    <tr>\n",
       "      <th>max</th>\n",
       "      <td>2.275658e+00</td>\n",
       "      <td>2.734712e+00</td>\n",
       "      <td>2.302702e+00</td>\n",
       "      <td>2.596844e+00</td>\n",
       "      <td>2.864239e+00</td>\n",
       "      <td>2.551110e+00</td>\n",
       "      <td>1.945184e+00</td>\n",
       "      <td>2.478505e+00</td>\n",
       "      <td>2.676953e+00</td>\n",
       "      <td>2.627916e+00</td>\n",
       "      <td>2.275347e+00</td>\n",
       "      <td>1.940584e+00</td>\n",
       "      <td>2.923292e+00</td>\n",
       "    </tr>\n",
       "  </tbody>\n",
       "</table>\n",
       "</div>"
      ],
      "text/plain": [
       "            Alcohol    Malic_Acid           Ash  Ash_Alcanity     Magnesium  \\\n",
       "count  1.610000e+02  1.610000e+02  1.610000e+02  1.610000e+02  1.610000e+02   \n",
       "mean   3.082420e-15 -1.130910e-16  8.936951e-16 -7.033711e-17 -2.770386e-16   \n",
       "std    1.003120e+00  1.003120e+00  1.003120e+00  1.003120e+00  1.003120e+00   \n",
       "min   -2.059161e+00 -1.502862e+00 -2.755979e+00 -2.732175e+00 -2.312593e+00   \n",
       "25%   -8.423697e-01 -6.743920e-01 -5.583556e-01 -7.084969e-01 -8.566089e-01   \n",
       "50%    4.487390e-02 -4.363261e-01 -1.931581e-02 -1.013934e-01 -4.772894e-02   \n",
       "75%    8.307182e-01  7.444810e-01  7.270469e-01  5.731660e-01  5.993751e-01   \n",
       "max    2.275658e+00  2.734712e+00  2.302702e+00  2.596844e+00  2.864239e+00   \n",
       "\n",
       "       Total_Phenols    Flavanoids  Nonflavanoid_Phenols  Proanthocyanins  \\\n",
       "count   1.610000e+02  1.610000e+02          1.610000e+02     1.610000e+02   \n",
       "mean    1.999781e-17 -5.047722e-16         -3.020358e-16    -4.585704e-17   \n",
       "std     1.003120e+00  1.003120e+00          1.003120e+00     1.003120e+00   \n",
       "min    -2.074034e+00 -1.724192e+00         -1.885730e+00    -2.203572e+00   \n",
       "25%    -9.257223e-01 -8.451773e-01         -7.329132e-01    -5.832379e-01   \n",
       "50%     6.310167e-02  1.053853e-01         -1.565048e-01    -1.147075e-01   \n",
       "75%     8.286428e-01  8.924102e-01          5.845916e-01     6.466544e-01   \n",
       "max     2.551110e+00  1.945184e+00          2.478505e+00     2.676953e+00   \n",
       "\n",
       "       Color_Intensity           Hue         OD280       Proline  \n",
       "count     1.610000e+02  1.610000e+02  1.610000e+02  1.610000e+02  \n",
       "mean      2.358362e-16  9.336907e-16 -8.137038e-17 -2.965192e-17  \n",
       "std       1.003120e+00  1.003120e+00  1.003120e+00  1.003120e+00  \n",
       "min      -1.747222e+00 -1.924002e+00 -1.898052e+00 -1.501825e+00  \n",
       "25%      -8.209962e-01 -7.703344e-01 -8.716036e-01 -7.948163e-01  \n",
       "50%      -1.088726e-01  1.415929e-02  2.251497e-01 -2.487783e-01  \n",
       "75%       5.427439e-01  7.525063e-01  7.875873e-01  8.401414e-01  \n",
       "max       2.627916e+00  2.275347e+00  1.940584e+00  2.923292e+00  "
      ]
     },
     "execution_count": 37,
     "metadata": {},
     "output_type": "execute_result"
    }
   ],
   "source": [
    "data_scaled.describe()"
   ]
  },
  {
   "cell_type": "markdown",
   "id": "8fada910",
   "metadata": {},
   "source": [
    "# Unsupervised Learning"
   ]
  },
  {
   "cell_type": "markdown",
   "id": "58226588",
   "metadata": {},
   "source": [
    "## 1.Kmeans Clustering"
   ]
  },
  {
   "cell_type": "code",
   "execution_count": 38,
   "id": "79bc272e",
   "metadata": {},
   "outputs": [
    {
     "name": "stderr",
     "output_type": "stream",
     "text": [
      "C:\\Users\\anugr\\anaconda3\\lib\\site-packages\\sklearn\\cluster\\_kmeans.py:1036: UserWarning: KMeans is known to have a memory leak on Windows with MKL, when there are less chunks than available threads. You can avoid it by setting the environment variable OMP_NUM_THREADS=1.\n",
      "  warnings.warn(\n"
     ]
    },
    {
     "data": {
      "image/png": "[encoded data removed]",
      "text/plain": [
       "<Figure size 432x288 with 1 Axes>"
      ]
     },
     "metadata": {
      "needs_background": "light"
     },
     "output_type": "display_data"
    }
   ],
   "source": [
    "from sklearn.cluster import KMeans\n",
    "wcss =[] #empty list to append wcss\n",
    "#finding the optimum number of clusters using elbow method\n",
    "for i in range(1,11):\n",
    "    kmeans = KMeans(n_clusters=i,init ='k-means++', random_state =42) #kmeans++ to avoid random initialization trap\n",
    "    kmeans.fit(data_scaled)\n",
    "    wcss.append(kmeans.inertia_)\n",
    "#plotting number of clusters against wcss\n",
    "plt.plot(range(1,11) , wcss)\n",
    "plt.title('The Elbow Method')\n",
    "plt.xlabel(\"Number of clusters\")\n",
    "plt.ylabel(\"WCSS\")\n",
    "plt.show()\n"
   ]
  },
  {
   "cell_type": "code",
   "execution_count": 39,
   "id": "9df60710",
   "metadata": {},
   "outputs": [],
   "source": [
    "#The elbow is at 3 , so optimum value for number of clusters is 3"
   ]
  },
  {
   "cell_type": "code",
   "execution_count": 40,
   "id": "105152a6",
   "metadata": {},
   "outputs": [],
   "source": [
    "# Creating a model with 3 optimum cluster on scaled data.\n",
    "kmeans =KMeans(n_clusters =3 , init='k-means++' ,random_state=42)\n",
    "y_kmeans = kmeans.fit_predict(data_scaled)"
   ]
  },
  {
   "cell_type": "code",
   "execution_count": 41,
   "id": "d0f80bf3",
   "metadata": {},
   "outputs": [
    {
     "data": {
      "text/plain": [
       "array([2, 2, 2, 2, 2, 2, 2, 2, 2, 2, 2, 2, 2, 2, 2, 2, 2, 2, 2, 2, 2, 2,\n",
       "       2, 2, 2, 2, 2, 2, 2, 2, 2, 2, 2, 2, 2, 2, 2, 2, 2, 2, 2, 2, 2, 2,\n",
       "       2, 2, 2, 2, 2, 2, 2, 2, 2, 2, 2, 2, 2, 0, 1, 0, 0, 0, 0, 0, 0, 0,\n",
       "       0, 0, 0, 0, 0, 0, 0, 0, 0, 0, 0, 1, 0, 0, 0, 0, 0, 0, 0, 0, 0, 0,\n",
       "       0, 0, 0, 0, 0, 0, 0, 0, 0, 0, 0, 0, 0, 0, 0, 0, 0, 0, 0, 0, 0, 1,\n",
       "       0, 0, 0, 0, 0, 0, 0, 0, 1, 1, 1, 1, 1, 1, 1, 1, 1, 1, 1, 1, 1, 1,\n",
       "       1, 1, 1, 1, 1, 1, 1, 1, 1, 1, 1, 1, 1, 1, 1, 1, 1, 1, 1, 1, 1, 1,\n",
       "       1, 1, 1, 1, 1, 1, 1])"
      ]
     },
     "execution_count": 41,
     "metadata": {},
     "output_type": "execute_result"
    }
   ],
   "source": [
    "y_kmeans"
   ]
  },
  {
   "cell_type": "code",
   "execution_count": 42,
   "id": "64425ed8",
   "metadata": {},
   "outputs": [],
   "source": [
    "#Silhoutte score of kmeans clustering\n",
    "from sklearn.metrics import silhouette_score\n",
    "sil_avg = silhouette_score(data_scaled, y_kmeans)"
   ]
  },
  {
   "cell_type": "code",
   "execution_count": 43,
   "id": "118347f0",
   "metadata": {},
   "outputs": [
    {
     "name": "stdout",
     "output_type": "stream",
     "text": [
      "Silhouette score of kmeans_clustering is :  0.3013979201701521\n"
     ]
    }
   ],
   "source": [
    "print(\"Silhouette score of kmeans_clustering is : \",sil_avg)"
   ]
  },
  {
   "cell_type": "markdown",
   "id": "1b6110c8",
   "metadata": {},
   "source": [
    "## 2.Agglomerative Hierarchical Clustering (AHC)"
   ]
  },
  {
   "cell_type": "markdown",
   "id": "5436a18f",
   "metadata": {},
   "source": [
    "#Finding the optimum number of clusters.\n",
    "\n",
    "We'll first create a Dendrogram to find the optimum number of clusters."
   ]
  },
  {
   "cell_type": "code",
   "execution_count": 44,
   "id": "539f1f8f",
   "metadata": {},
   "outputs": [],
   "source": [
    "# Dendrogram"
   ]
  },
  {
   "cell_type": "code",
   "execution_count": 45,
   "id": "39f7fad7",
   "metadata": {},
   "outputs": [],
   "source": [
    "import scipy.cluster.hierarchy as sch"
   ]
  },
  {
   "cell_type": "code",
   "execution_count": 46,
   "id": "a31071db",
   "metadata": {},
   "outputs": [
    {
     "data": {
      "text/plain": [
       "Text(0, 0.5, 'Euclidean distance')"
      ]
     },
     "execution_count": 46,
     "metadata": {},
     "output_type": "execute_result"
    },
    {
     "data": {
      "image/png": "[encoded data removed]",
      "text/plain": [
       "<Figure size 432x288 with 1 Axes>"
      ]
     },
     "metadata": {
      "needs_background": "light"
     },
     "output_type": "display_data"
    }
   ],
   "source": [
    "dendro = sch.dendrogram(sch.linkage(data_scaled , method =\"ward\"))\n",
    "plt.title(\"Dendrogram\")\n",
    "plt.ylabel(\"Euclidean distance\")"
   ]
  },
  {
   "cell_type": "markdown",
   "id": "dad4d8d8",
   "metadata": {},
   "source": [
    "From the above we can take 3 as the optimum number of clusters for the Scaled data."
   ]
  },
  {
   "cell_type": "code",
   "execution_count": 47,
   "id": "ab33b046",
   "metadata": {},
   "outputs": [],
   "source": [
    "#Agglomerative clusetring\n",
    "from sklearn.cluster import AgglomerativeClustering\n",
    "hc =AgglomerativeClustering(n_clusters =3 , affinity = 'euclidean' , linkage ='ward')\n",
    "y_hc = hc.fit_predict(data_scaled)"
   ]
  },
  {
   "cell_type": "code",
   "execution_count": 48,
   "id": "3f9bd828",
   "metadata": {},
   "outputs": [
    {
     "data": {
      "text/plain": [
       "array([2, 2, 2, 2, 2, 2, 2, 2, 2, 2, 2, 2, 2, 2, 2, 2, 2, 2, 2, 2, 2, 2,\n",
       "       2, 2, 2, 2, 2, 2, 2, 2, 2, 2, 2, 2, 2, 2, 2, 2, 2, 2, 2, 2, 2, 2,\n",
       "       2, 2, 2, 2, 2, 2, 2, 2, 2, 2, 2, 2, 2, 1, 1, 0, 0, 0, 2, 0, 0, 1,\n",
       "       1, 2, 0, 0, 0, 0, 1, 0, 0, 0, 0, 1, 0, 0, 0, 0, 0, 0, 0, 0, 0, 0,\n",
       "       0, 1, 0, 0, 0, 0, 0, 0, 0, 0, 0, 0, 0, 0, 0, 0, 0, 0, 0, 0, 0, 1,\n",
       "       0, 0, 0, 0, 0, 0, 0, 0, 1, 1, 1, 1, 1, 1, 1, 1, 1, 1, 1, 1, 1, 1,\n",
       "       1, 1, 1, 1, 1, 1, 1, 1, 1, 1, 1, 1, 1, 1, 1, 1, 1, 1, 1, 1, 1, 1,\n",
       "       1, 1, 1, 1, 1, 1, 1], dtype=int64)"
      ]
     },
     "execution_count": 48,
     "metadata": {},
     "output_type": "execute_result"
    }
   ],
   "source": [
    "y_hc"
   ]
  },
  {
   "cell_type": "code",
   "execution_count": 49,
   "id": "35e641ec",
   "metadata": {},
   "outputs": [
    {
     "name": "stdout",
     "output_type": "stream",
     "text": [
      "Silhouette score of kmeans_clustering is :  0.29574004115878627\n"
     ]
    }
   ],
   "source": [
    "#Silhouette score of agglomerative clustering\n",
    "sil_avg = silhouette_score(data_scaled, y_hc)\n",
    "print(\"Silhouette score of kmeans_clustering is : \",sil_avg)"
   ]
  },
  {
   "cell_type": "markdown",
   "id": "fca322b9",
   "metadata": {},
   "source": [
    "## DBSCAN(Density Based Spatial Clustering of Applications with Noise)"
   ]
  },
  {
   "cell_type": "markdown",
   "id": "b4888c48",
   "metadata": {},
   "source": [
    "K distance plot can be used to find the epsilon(eps) value"
   ]
  },
  {
   "cell_type": "code",
   "execution_count": 50,
   "id": "c060257d",
   "metadata": {},
   "outputs": [],
   "source": [
    "from sklearn.neighbors import NearestNeighbors\n"
   ]
  },
  {
   "cell_type": "code",
   "execution_count": 51,
   "id": "eaea476e",
   "metadata": {},
   "outputs": [],
   "source": [
    "#min_samples >= Dimensionality of dataset,here it is 13,So the minimum value of MinPts must be at least 14.\n",
    "neighbors = NearestNeighbors(n_neighbors=14)# taking min_samples as 14\n",
    "neighbors_fit = neighbors.fit(data_scaled)\n",
    "distances, indices = neighbors_fit.kneighbors(data_scaled)\n",
    "     "
   ]
  },
  {
   "cell_type": "code",
   "execution_count": 52,
   "id": "18d19e46",
   "metadata": {},
   "outputs": [
    {
     "data": {
      "image/png": "[encoded data removed]",
      "text/plain": [
       "<Figure size 432x288 with 1 Axes>"
      ]
     },
     "metadata": {
      "needs_background": "light"
     },
     "output_type": "display_data"
    }
   ],
   "source": [
    "distances = np.sort(distances, axis=0)\n",
    "distances = distances[:,1]\n",
    "plt.plot(distances)\n",
    "plt.title('K Distance Plot')\n",
    "plt.ylabel('K Distance')\n",
    "plt.xlabel('Data points sorted by distance')\n",
    "plt.grid()\n"
   ]
  },
  {
   "cell_type": "code",
   "execution_count": 53,
   "id": "75098766",
   "metadata": {},
   "outputs": [],
   "source": [
    "#From the graph, we can infer that elbow occuring at 3"
   ]
  },
  {
   "cell_type": "code",
   "execution_count": 54,
   "id": "f8d54d55",
   "metadata": {},
   "outputs": [],
   "source": [
    "from sklearn.cluster import DBSCAN"
   ]
  },
  {
   "cell_type": "code",
   "execution_count": 55,
   "id": "763a7f3e",
   "metadata": {},
   "outputs": [],
   "source": [
    "db=DBSCAN(eps=3,min_samples=14,metric='euclidean',algorithm='auto') \n",
    "#min_samples >= Dimensionality of dataset,here it is 13,So the minimum value of Min_samples must be at least 14."
   ]
  },
  {
   "cell_type": "code",
   "execution_count": 56,
   "id": "4ee42bfe",
   "metadata": {},
   "outputs": [],
   "source": [
    "y_db=db.fit_predict(data_scaled)"
   ]
  },
  {
   "cell_type": "code",
   "execution_count": 57,
   "id": "7214a5ff",
   "metadata": {},
   "outputs": [
    {
     "data": {
      "text/plain": [
       "array([ 0,  0,  0,  0,  0,  0,  0,  0,  0,  0,  0,  0,  0,  0,  0,  0,  0,\n",
       "        0,  0,  0,  0,  0,  0,  0,  0,  0,  0,  0,  0,  0,  0,  0,  0,  0,\n",
       "        0,  0,  0,  0,  0,  0,  0,  0,  0,  0,  0,  0,  0,  0,  0,  0,  0,\n",
       "        0,  0,  0,  0,  0,  0, -1,  1,  0,  0,  0,  0,  0,  0, -1,  0,  0,\n",
       "        0,  0,  0,  0,  0,  0,  0,  0,  0,  0, -1,  0,  0,  0,  0,  0,  0,\n",
       "        0,  0,  0,  0, -1,  0,  0,  0,  0,  0,  0,  0,  0,  0,  0,  0,  0,\n",
       "       -1,  0, -1,  0,  0,  0,  0,  1,  0,  0, -1, -1,  0,  0,  0,  0, -1,\n",
       "        1,  1,  1,  0,  1,  1,  1,  1,  1,  1,  1,  1,  1,  1,  1,  1,  1,\n",
       "        1,  1,  1,  1,  1,  1,  1,  1,  1,  1,  1,  1,  1,  1,  1,  1,  1,\n",
       "        1,  1,  1,  1,  1,  1,  1,  1], dtype=int64)"
      ]
     },
     "execution_count": 57,
     "metadata": {},
     "output_type": "execute_result"
    }
   ],
   "source": [
    "y_db"
   ]
  },
  {
   "cell_type": "code",
   "execution_count": 58,
   "id": "ec7c5864",
   "metadata": {},
   "outputs": [
    {
     "name": "stdout",
     "output_type": "stream",
     "text": [
      "Silhouette score of DBSCAN is :  0.20707089490914607\n"
     ]
    }
   ],
   "source": [
    "#Silhouette score of DBSCAN\n",
    "sil_avg = silhouette_score(data_scaled, y_db)\n",
    "print(\"Silhouette score of DBSCAN is : \",sil_avg)"
   ]
  },
  {
   "cell_type": "markdown",
   "id": "6b312c5f",
   "metadata": {},
   "source": [
    "### INFERENCE:"
   ]
  },
  {
   "cell_type": "markdown",
   "id": "4bbc47ab",
   "metadata": {},
   "source": [
    "1.For Kmeans, the silhouette score = 0.3014 for number of clusters= 3.\n",
    "\n",
    "2.For AHC, the silhouette score =0.2957 for number of clusters =3.\n",
    "\n",
    "3.For DBSCAN, the silhouette score =  0.207 for eps=3 and min_samples=14."
   ]
  },
  {
   "cell_type": "raw",
   "id": "41229fdf",
   "metadata": {},
   "source": [
    "  KMeans clustering works better than other clustering models for this dataset ."
   ]
  },
  {
   "cell_type": "code",
   "execution_count": null,
   "id": "7a8a96c9",
   "metadata": {},
   "outputs": [],
   "source": []
  }
 ],
 "metadata": {
  "kernelspec": {
   "display_name": "Python 3 (ipykernel)",
   "language": "python",
   "name": "python3"
  },
  "language_info": {
   "codemirror_mode": {
    "name": "ipython",
    "version": 3
   },
   "file_extension": ".py",
   "mimetype": "text/x-python",
   "name": "python",
   "nbconvert_exporter": "python",
   "pygments_lexer": "ipython3",
   "version": "3.9.12"
  }
 },
 "nbformat": 4,
 "nbformat_minor": 5
}
