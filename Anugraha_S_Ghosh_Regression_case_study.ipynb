{
 "cells": [
  {
   "cell_type": "markdown",
   "id": "8fb51989",
   "metadata": {},
   "source": [
    "#                         Case Study on Regression\n",
    " The given dataset contains price of second-hand Hyundai grand i10 car with respect to year of making. Find the best linear relationship between year and price. Can you predict the possible price of a 2022 model second-hand grand i10?Please learn about lasso regression and create a model along with linearregression. Find out which one is performing better."
   ]
  },
  {
   "cell_type": "code",
   "execution_count": 1,
   "id": "6915c182",
   "metadata": {},
   "outputs": [],
   "source": [
    "# Importing required libraries\n",
    "import numpy as np\n",
    "import pandas as pd\n",
    "import matplotlib.pyplot as plt\n",
    "import seaborn as sns"
   ]
  },
  {
   "cell_type": "code",
   "execution_count": 2,
   "id": "2ac99d5e",
   "metadata": {},
   "outputs": [],
   "source": [
    "#loading dataset \n",
    "data=pd.read_csv(r\"C:\\Users\\anugr\\Downloads\\car_age_price.csv\")"
   ]
  },
  {
   "cell_type": "code",
   "execution_count": 3,
   "id": "105f7a63",
   "metadata": {},
   "outputs": [
    {
     "data": {
      "text/html": [
       "<div>\n",
       "<style scoped>\n",
       "    .dataframe tbody tr th:only-of-type {\n",
       "        vertical-align: middle;\n",
       "    }\n",
       "\n",
       "    .dataframe tbody tr th {\n",
       "        vertical-align: top;\n",
       "    }\n",
       "\n",
       "    .dataframe thead th {\n",
       "        text-align: right;\n",
       "    }\n",
       "</style>\n",
       "<table border=\"1\" class=\"dataframe\">\n",
       "  <thead>\n",
       "    <tr style=\"text-align: right;\">\n",
       "      <th></th>\n",
       "      <th>Year</th>\n",
       "      <th>Price</th>\n",
       "    </tr>\n",
       "  </thead>\n",
       "  <tbody>\n",
       "    <tr>\n",
       "      <th>0</th>\n",
       "      <td>2018</td>\n",
       "      <td>465000</td>\n",
       "    </tr>\n",
       "    <tr>\n",
       "      <th>1</th>\n",
       "      <td>2019</td>\n",
       "      <td>755000</td>\n",
       "    </tr>\n",
       "    <tr>\n",
       "      <th>2</th>\n",
       "      <td>2019</td>\n",
       "      <td>700000</td>\n",
       "    </tr>\n",
       "    <tr>\n",
       "      <th>3</th>\n",
       "      <td>2018</td>\n",
       "      <td>465000</td>\n",
       "    </tr>\n",
       "    <tr>\n",
       "      <th>4</th>\n",
       "      <td>2018</td>\n",
       "      <td>465000</td>\n",
       "    </tr>\n",
       "  </tbody>\n",
       "</table>\n",
       "</div>"
      ],
      "text/plain": [
       "   Year   Price\n",
       "0  2018  465000\n",
       "1  2019  755000\n",
       "2  2019  700000\n",
       "3  2018  465000\n",
       "4  2018  465000"
      ]
     },
     "execution_count": 3,
     "metadata": {},
     "output_type": "execute_result"
    }
   ],
   "source": [
    "data.head()"
   ]
  },
  {
   "cell_type": "code",
   "execution_count": 29,
   "id": "ae133530",
   "metadata": {},
   "outputs": [],
   "source": [
    "#checking basic details"
   ]
  },
  {
   "cell_type": "code",
   "execution_count": 4,
   "id": "05ef0b77",
   "metadata": {},
   "outputs": [
    {
     "data": {
      "text/plain": [
       "(112, 2)"
      ]
     },
     "execution_count": 4,
     "metadata": {},
     "output_type": "execute_result"
    }
   ],
   "source": [
    "data.shape"
   ]
  },
  {
   "cell_type": "code",
   "execution_count": 5,
   "id": "b76f26b8",
   "metadata": {},
   "outputs": [
    {
     "name": "stdout",
     "output_type": "stream",
     "text": [
      "<class 'pandas.core.frame.DataFrame'>\n",
      "RangeIndex: 112 entries, 0 to 111\n",
      "Data columns (total 2 columns):\n",
      " #   Column  Non-Null Count  Dtype\n",
      "---  ------  --------------  -----\n",
      " 0   Year    112 non-null    int64\n",
      " 1   Price   112 non-null    int64\n",
      "dtypes: int64(2)\n",
      "memory usage: 1.9 KB\n"
     ]
    }
   ],
   "source": [
    "data.info()"
   ]
  },
  {
   "cell_type": "code",
   "execution_count": 6,
   "id": "d1f9bc62",
   "metadata": {},
   "outputs": [
    {
     "data": {
      "text/html": [
       "<div>\n",
       "<style scoped>\n",
       "    .dataframe tbody tr th:only-of-type {\n",
       "        vertical-align: middle;\n",
       "    }\n",
       "\n",
       "    .dataframe tbody tr th {\n",
       "        vertical-align: top;\n",
       "    }\n",
       "\n",
       "    .dataframe thead th {\n",
       "        text-align: right;\n",
       "    }\n",
       "</style>\n",
       "<table border=\"1\" class=\"dataframe\">\n",
       "  <thead>\n",
       "    <tr style=\"text-align: right;\">\n",
       "      <th></th>\n",
       "      <th>Year</th>\n",
       "      <th>Price</th>\n",
       "    </tr>\n",
       "  </thead>\n",
       "  <tbody>\n",
       "    <tr>\n",
       "      <th>count</th>\n",
       "      <td>112.000000</td>\n",
       "      <td>112.000000</td>\n",
       "    </tr>\n",
       "    <tr>\n",
       "      <th>mean</th>\n",
       "      <td>2016.669643</td>\n",
       "      <td>483866.044643</td>\n",
       "    </tr>\n",
       "    <tr>\n",
       "      <th>std</th>\n",
       "      <td>1.629616</td>\n",
       "      <td>91217.450533</td>\n",
       "    </tr>\n",
       "    <tr>\n",
       "      <th>min</th>\n",
       "      <td>2013.000000</td>\n",
       "      <td>300000.000000</td>\n",
       "    </tr>\n",
       "    <tr>\n",
       "      <th>25%</th>\n",
       "      <td>2015.000000</td>\n",
       "      <td>423750.000000</td>\n",
       "    </tr>\n",
       "    <tr>\n",
       "      <th>50%</th>\n",
       "      <td>2017.000000</td>\n",
       "      <td>500000.000000</td>\n",
       "    </tr>\n",
       "    <tr>\n",
       "      <th>75%</th>\n",
       "      <td>2017.000000</td>\n",
       "      <td>550000.000000</td>\n",
       "    </tr>\n",
       "    <tr>\n",
       "      <th>max</th>\n",
       "      <td>2020.000000</td>\n",
       "      <td>755000.000000</td>\n",
       "    </tr>\n",
       "  </tbody>\n",
       "</table>\n",
       "</div>"
      ],
      "text/plain": [
       "              Year          Price\n",
       "count   112.000000     112.000000\n",
       "mean   2016.669643  483866.044643\n",
       "std       1.629616   91217.450533\n",
       "min    2013.000000  300000.000000\n",
       "25%    2015.000000  423750.000000\n",
       "50%    2017.000000  500000.000000\n",
       "75%    2017.000000  550000.000000\n",
       "max    2020.000000  755000.000000"
      ]
     },
     "execution_count": 6,
     "metadata": {},
     "output_type": "execute_result"
    }
   ],
   "source": [
    "data.describe()  # statistical description of data"
   ]
  },
  {
   "cell_type": "code",
   "execution_count": 7,
   "id": "42e8a9ce",
   "metadata": {},
   "outputs": [
    {
     "data": {
      "text/plain": [
       "Year     0\n",
       "Price    0\n",
       "dtype: int64"
      ]
     },
     "execution_count": 7,
     "metadata": {},
     "output_type": "execute_result"
    }
   ],
   "source": [
    "data.isnull().sum() #checking for null values"
   ]
  },
  {
   "cell_type": "code",
   "execution_count": 8,
   "id": "1d2e7c93",
   "metadata": {},
   "outputs": [
    {
     "data": {
      "text/html": [
       "<div>\n",
       "<style scoped>\n",
       "    .dataframe tbody tr th:only-of-type {\n",
       "        vertical-align: middle;\n",
       "    }\n",
       "\n",
       "    .dataframe tbody tr th {\n",
       "        vertical-align: top;\n",
       "    }\n",
       "\n",
       "    .dataframe thead th {\n",
       "        text-align: right;\n",
       "    }\n",
       "</style>\n",
       "<table border=\"1\" class=\"dataframe\">\n",
       "  <thead>\n",
       "    <tr style=\"text-align: right;\">\n",
       "      <th></th>\n",
       "      <th>Year</th>\n",
       "      <th>Price</th>\n",
       "    </tr>\n",
       "  </thead>\n",
       "  <tbody>\n",
       "    <tr>\n",
       "      <th>Year</th>\n",
       "      <td>1.000000</td>\n",
       "      <td>0.776302</td>\n",
       "    </tr>\n",
       "    <tr>\n",
       "      <th>Price</th>\n",
       "      <td>0.776302</td>\n",
       "      <td>1.000000</td>\n",
       "    </tr>\n",
       "  </tbody>\n",
       "</table>\n",
       "</div>"
      ],
      "text/plain": [
       "           Year     Price\n",
       "Year   1.000000  0.776302\n",
       "Price  0.776302  1.000000"
      ]
     },
     "execution_count": 8,
     "metadata": {},
     "output_type": "execute_result"
    }
   ],
   "source": [
    "data.corr() #checking correlation between the year and price"
   ]
  },
  {
   "cell_type": "code",
   "execution_count": 9,
   "id": "3f38cc04",
   "metadata": {},
   "outputs": [],
   "source": [
    "# splitting data into features and target\n",
    "y =data['Price']\n",
    "x =data.drop('Price', axis =1)"
   ]
  },
  {
   "cell_type": "code",
   "execution_count": 10,
   "id": "acc0c4c0",
   "metadata": {},
   "outputs": [
    {
     "data": {
      "image/png": "[encoded data removed]",
      "text/plain": [
       "<Figure size 432x288 with 1 Axes>"
      ]
     },
     "metadata": {
      "needs_background": "light"
     },
     "output_type": "display_data"
    }
   ],
   "source": [
    "#Scatter plot of year and price\n",
    "plt.scatter(data['Year'], data['Price']);"
   ]
  },
  {
   "cell_type": "markdown",
   "id": "453f61eb",
   "metadata": {},
   "source": [
    "## Linear Regression"
   ]
  },
  {
   "cell_type": "code",
   "execution_count": 11,
   "id": "66fda1dd",
   "metadata": {},
   "outputs": [],
   "source": [
    "# Importing the required libraries\n",
    "from sklearn.linear_model import LinearRegression\n",
    "from sklearn.model_selection import train_test_split"
   ]
  },
  {
   "cell_type": "code",
   "execution_count": 12,
   "id": "4efe9f15",
   "metadata": {},
   "outputs": [
    {
     "data": {
      "text/plain": [
       "array([599223.07304102, 505265.04214995, 552244.05759549, 552244.05759549,\n",
       "       552244.05759549, 411307.01125886, 505265.04214995, 552244.05759549,\n",
       "       599223.07304102, 599223.07304102, 317348.98036776, 505265.04214995,\n",
       "       411307.01125886, 646202.08848657, 552244.05759549, 599223.07304102,\n",
       "       317348.98036776, 411307.01125886, 505265.04214995, 505265.04214995,\n",
       "       505265.04214995, 505265.04214995, 505265.04214995, 505265.04214995,\n",
       "       505265.04214995, 505265.04214995, 411307.01125886, 411307.01125886])"
      ]
     },
     "execution_count": 12,
     "metadata": {},
     "output_type": "execute_result"
    }
   ],
   "source": [
    "#Splitting data into training and testing data\n",
    "x_train,x_test,y_train,y_test = train_test_split(x,y,test_size =0.25, random_state=42)\n",
    "\n",
    "#creating an instance of the LinearRegression\n",
    "lr = LinearRegression()\n",
    "\n",
    "#Creating the model\n",
    "model =lr.fit(x_train,y_train)\n",
    "\n",
    "#Make predictions on test data\n",
    "y_pred =model.predict(x_test)\n",
    "y_pred\n"
   ]
  },
  {
   "cell_type": "code",
   "execution_count": 13,
   "id": "adf88d5d",
   "metadata": {},
   "outputs": [
    {
     "name": "stdout",
     "output_type": "stream",
     "text": [
      "MSE is 3878767151.0731072\n",
      "R squared value  is 0.4347961632108521\n"
     ]
    }
   ],
   "source": [
    "#Evaluating the model\n",
    "\n",
    "from sklearn.metrics import mean_squared_error, r2_score\n",
    "print('MSE is', mean_squared_error(y_test,y_pred))\n",
    "print('R squared value  is', r2_score(y_test,y_pred))"
   ]
  },
  {
   "cell_type": "markdown",
   "id": "3b8c0eb6",
   "metadata": {},
   "source": [
    "### Predicting the possible price of a  2022 model second hand grand i10"
   ]
  },
  {
   "cell_type": "code",
   "execution_count": 14,
   "id": "cf70a0be",
   "metadata": {},
   "outputs": [
    {
     "name": "stderr",
     "output_type": "stream",
     "text": [
      "C:\\Users\\anugr\\anaconda3\\lib\\site-packages\\sklearn\\base.py:450: UserWarning: X does not have valid feature names, but LinearRegression was fitted with feature names\n",
      "  warnings.warn(\n"
     ]
    }
   ],
   "source": [
    "x_test2022 = np.array([[2022]])\n",
    "y_pred2022 =model.predict(x_test2022)"
   ]
  },
  {
   "cell_type": "code",
   "execution_count": 15,
   "id": "e2d291f0",
   "metadata": {},
   "outputs": [
    {
     "data": {
      "text/plain": [
       "array([740160.11937766])"
      ]
     },
     "execution_count": 15,
     "metadata": {},
     "output_type": "execute_result"
    }
   ],
   "source": [
    "y_pred2022"
   ]
  },
  {
   "cell_type": "markdown",
   "id": "785dce94",
   "metadata": {},
   "source": [
    "######   .The predicted possible price of a 2022 model second hand grand i10 is 740160.119 units"
   ]
  },
  {
   "cell_type": "code",
   "execution_count": null,
   "id": "0737f31d",
   "metadata": {},
   "outputs": [],
   "source": []
  },
  {
   "cell_type": "markdown",
   "id": "68eecb3f",
   "metadata": {},
   "source": [
    "## Lasso Regression"
   ]
  },
  {
   "cell_type": "code",
   "execution_count": 23,
   "id": "e2024306",
   "metadata": {},
   "outputs": [],
   "source": [
    "# Importing the required libraries\n",
    "from sklearn.linear_model import Lasso"
   ]
  },
  {
   "cell_type": "code",
   "execution_count": 30,
   "id": "45f7274f",
   "metadata": {},
   "outputs": [
    {
     "data": {
      "text/plain": [
       "array([599222.10828854, 505264.87581331, 552243.49205092, 552243.49205092,\n",
       "       552243.49205092, 411307.64333805, 505264.87581331, 552243.49205092,\n",
       "       599222.10828854, 599222.10828854, 317350.4108628 , 505264.87581331,\n",
       "       411307.64333805, 646200.72452617, 552243.49205092, 599222.10828854,\n",
       "       317350.4108628 , 411307.64333805, 505264.87581331, 505264.87581331,\n",
       "       505264.87581331, 505264.87581331, 505264.87581331, 505264.87581331,\n",
       "       505264.87581331, 505264.87581331, 411307.64333805, 411307.64333805])"
      ]
     },
     "execution_count": 30,
     "metadata": {},
     "output_type": "execute_result"
    }
   ],
   "source": [
    "#Splitting data into training and testing data\n",
    "x_train1,x_test1,y_train1,y_test1 = train_test_split(x,y,test_size =0.25, random_state=42)\n",
    "\n",
    "#creating an instance of the Lasso class\n",
    "model_lasso = Lasso(alpha =1)\n",
    "\n",
    "#Fit the model to the training data\n",
    "model_lasso.fit(x_train1,y_train1)\n",
    "\n",
    "#Make predictions on test data\n",
    "y_pred2 =model_lasso.predict(x_test1)\n",
    "y_pred2\n"
   ]
  },
  {
   "cell_type": "code",
   "execution_count": 31,
   "id": "f4353e43",
   "metadata": {},
   "outputs": [
    {
     "name": "stdout",
     "output_type": "stream",
     "text": [
      "MSE is 3878735896.222091\n",
      "R squared value  is 0.4348007175862566\n"
     ]
    }
   ],
   "source": [
    "#Evaluating the model\n",
    "\n",
    "from sklearn.metrics import mean_squared_error, r2_score\n",
    "print('MSE is', mean_squared_error(y_test,y_pred2))\n",
    "print('R squared value  is', r2_score(y_test,y_pred2))"
   ]
  },
  {
   "cell_type": "markdown",
   "id": "7c2604a3",
   "metadata": {},
   "source": [
    "##### In this dataset, Linear regression and Lasso regression are performing almost same( because both have MSE and r2 score almost same). So we can't say which one is better in this case."
   ]
  },
  {
   "cell_type": "code",
   "execution_count": null,
   "id": "3c0566bd",
   "metadata": {},
   "outputs": [],
   "source": []
  }
 ],
 "metadata": {
  "kernelspec": {
   "display_name": "Python 3 (ipykernel)",
   "language": "python",
   "name": "python3"
  },
  "language_info": {
   "codemirror_mode": {
    "name": "ipython",
    "version": 3
   },
   "file_extension": ".py",
   "mimetype": "text/x-python",
   "name": "python",
   "nbconvert_exporter": "python",
   "pygments_lexer": "ipython3",
   "version": "3.9.12"
  }
 },
 "nbformat": 4,
 "nbformat_minor": 5
}
